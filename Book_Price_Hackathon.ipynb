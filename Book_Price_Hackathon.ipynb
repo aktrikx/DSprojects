{
 "cells": [
  {
   "cell_type": "markdown",
   "metadata": {},
   "source": [
    "Overview\n",
    "The so-called paradoxes of an author, to which a reader takes exception, often exist not in the author's book at all, but rather in the reader's head. - Friedrich Nietzsche Books are open doors to the unimagined worlds which is unique to every person. It is more than just a hobby for many. There are many among us who prefer to spend more time with books than anything else. Here we explore a big database of books. Books of different genres, from thousands of authors. In this challenge, participants are required to use the dataset to build a Machine Learning model to predict the price of books based on a given set of features. Size of training set: 6237 records Size of test set: 1560 records FEATURES: Title: The title of the book Author: The author(s) of the book. Edition: The edition of the book eg (Paperback,– Import, 26 Apr 2018) Reviews: The customer reviews about the book Ratings: The customer ratings of the book Synopsis: The synopsis of the book Genre: The genre the book belongs to BookCategory: The department the book is usually available at. Price: The price of the book (Target variable)\n",
    "\n",
    "                                                \n",
    "Evaluation:\n",
    "1 - np.sqrt(np.square(np.log10(y_pred +1) - np.log10(y_true +1)).mean())\n",
    "\n"
   ]
  },
  {
   "cell_type": "code",
   "execution_count": 13,
   "metadata": {},
   "outputs": [],
   "source": [
    "def performance(): \n",
    "    pred1 = model.predict(x_train)\n",
    "    pred = model.predict(x_test)\n",
    "    real = [y_train, y_test] \n",
    "    est = [pred1, pred]\n",
    "    nam=[\"Model performance in Train Data\",\"Model performance in Test Data\"] \n",
    "    for (a, b,c) in zip(real, est,nam):\n",
    "        print(c)\n",
    "        # Measure MSE error. \n",
    "        score = metrics.mean_squared_error(a,b)\n",
    "        print(\"Final score (MSE): {}\".format(score))\n",
    "        # Measure RMSE error.  RMSE is common for regression.\n",
    "        score = np.sqrt(metrics.mean_squared_error(a,b))\n",
    "        print(\"Final score (RMSE): {}\".format(score))\n",
    "        print(\"Final score (R^2):\",metrics.r2_score(a,b))\n",
    "        errors = abs(b - a)\n",
    "        mape = 100 * np.mean(errors / a)\n",
    "        accuracy = 100 - mape\n",
    "        print('Average Error: {:0.4f}'.format(np.mean(errors)))\n",
    "        print('Accuracy = {:0.2f}%'.format(accuracy))\n",
    "        print('evaulation',1 - np.sqrt(np.square(np.log10(b +1) - np.log10(a +1)).mean()))\n",
    "\n",
    "    plt.rcParams['agg.path.chunksize'] = 10000\n",
    "    style.use('ggplot')\n",
    "  \n",
    "\n",
    "    fig = plt.figure()\n",
    "    ax1 = fig.add_subplot(111)\n",
    "    ax1.scatter(y_train,pred1, s=10, c='b',marker='s', label='Train Data')\n",
    "    ax1.scatter(y_test,pred, s=10, c='r',marker='+' , label='Test Data')\n",
    "    plt.xlabel('True values')\n",
    "    plt.ylabel('Predictions')\n",
    "    plt.legend(loc='upper left');\n",
    "    plt.show()"
   ]
  },
  {
   "cell_type": "code",
   "execution_count": 14,
   "metadata": {},
   "outputs": [],
   "source": [
    "%matplotlib inline\n",
    "import pandas as pd\n",
    "import numpy as np\n",
    "import matplotlib.pyplot as plt\n",
    "import seaborn as sns"
   ]
  },
  {
   "cell_type": "code",
   "execution_count": 183,
   "metadata": {},
   "outputs": [],
   "source": [
    "train_real1=pd.read_excel(\"C:\\\\Users\\\\Arzun\\\\Desktop\\\\DSprojects\\\\Participants_Data\\\\Data_Train.xlsx\")\n",
    "train_real2=train_real1.drop(['Price'],axis=1)\n",
    "test=pd.read_excel(\"C:\\\\Users\\\\Arzun\\\\Desktop\\\\DSprojects\\\\Participants_Data\\\\Data_Test.xlsx\")\n",
    "sample_submission=pd.read_excel(\"C:\\\\Users\\\\Arzun\\\\Desktop\\\\DSprojects\\\\Participants_Data\\\\Sample_Submission.xlsx\")"
   ]
  },
  {
   "cell_type": "code",
   "execution_count": 184,
   "metadata": {},
   "outputs": [
    {
     "data": {
      "text/plain": [
       "Index(['Title', 'Author', 'Edition', 'Reviews', 'Ratings', 'Synopsis', 'Genre',\n",
       "       'BookCategory', 'Price'],\n",
       "      dtype='object')"
      ]
     },
     "execution_count": 184,
     "metadata": {},
     "output_type": "execute_result"
    }
   ],
   "source": [
    "train_real1.columns"
   ]
  },
  {
   "cell_type": "code",
   "execution_count": 185,
   "metadata": {},
   "outputs": [
    {
     "data": {
      "text/plain": [
       "((6237, 9), (1560, 8))"
      ]
     },
     "execution_count": 185,
     "metadata": {},
     "output_type": "execute_result"
    }
   ],
   "source": [
    "train_real1.shape, test.shape   "
   ]
  },
  {
   "cell_type": "code",
   "execution_count": 186,
   "metadata": {},
   "outputs": [],
   "source": [
    "train=pd.concat([train_real1,test],axis=0,ignore_index=True)"
   ]
  },
  {
   "cell_type": "code",
   "execution_count": 187,
   "metadata": {},
   "outputs": [],
   "source": [
    "def findint(new_string):\n",
    "    emp_str = \"\"\n",
    "    for m in new_string:\n",
    "        if m.isdigit():\n",
    "            emp_str = emp_str + m\n",
    "    return emp_str"
   ]
  },
  {
   "cell_type": "code",
   "execution_count": 188,
   "metadata": {},
   "outputs": [
    {
     "name": "stderr",
     "output_type": "stream",
     "text": [
      "C:\\anaconda\\envs\\tenso\\lib\\site-packages\\ipykernel_launcher.py:2: SettingWithCopyWarning: \n",
      "A value is trying to be set on a copy of a slice from a DataFrame\n",
      "\n",
      "See the caveats in the documentation: https://pandas.pydata.org/pandas-docs/stable/user_guide/indexing.html#returning-a-view-versus-a-copy\n",
      "  \n",
      "C:\\anaconda\\envs\\tenso\\lib\\site-packages\\ipykernel_launcher.py:3: SettingWithCopyWarning: \n",
      "A value is trying to be set on a copy of a slice from a DataFrame\n",
      "\n",
      "See the caveats in the documentation: https://pandas.pydata.org/pandas-docs/stable/user_guide/indexing.html#returning-a-view-versus-a-copy\n",
      "  This is separate from the ipykernel package so we can avoid doing imports until\n",
      "C:\\anaconda\\envs\\tenso\\lib\\site-packages\\ipykernel_launcher.py:4: SettingWithCopyWarning: \n",
      "A value is trying to be set on a copy of a slice from a DataFrame\n",
      "\n",
      "See the caveats in the documentation: https://pandas.pydata.org/pandas-docs/stable/user_guide/indexing.html#returning-a-view-versus-a-copy\n",
      "  after removing the cwd from sys.path.\n"
     ]
    }
   ],
   "source": [
    "for i in range(len(train)):\n",
    "    train['Edition'][i] = findint(train[\"Edition\"][i])[-4:]\n",
    "    train[\"Reviews\"][i] = float(findint(train[\"Reviews\"][i][:3]))\n",
    "    train[\"Ratings\"][i] = float(findint(train[\"Ratings\"][i][:1]))\n",
    "    \n",
    "# train[\"Reviews\"] = train[\"Reviews\"].apply(lambda x: int(x[0][:3]))\n",
    "# train[\"Ratings\"] = train[\"Ratings\"].apply(lambda x: int(x[0][:1]))\n"
   ]
  },
  {
   "cell_type": "code",
   "execution_count": 189,
   "metadata": {},
   "outputs": [],
   "source": [
    "import textblob            #to import\n",
    "from textblob import TextBlob\n",
    "train[['polarity', 'subjectivity']] = train['Synopsis'].apply(lambda Text: pd.Series(TextBlob(Text).sentiment))"
   ]
  },
  {
   "cell_type": "code",
   "execution_count": 190,
   "metadata": {},
   "outputs": [
    {
     "data": {
      "text/html": [
       "<div>\n",
       "<style scoped>\n",
       "    .dataframe tbody tr th:only-of-type {\n",
       "        vertical-align: middle;\n",
       "    }\n",
       "\n",
       "    .dataframe tbody tr th {\n",
       "        vertical-align: top;\n",
       "    }\n",
       "\n",
       "    .dataframe thead th {\n",
       "        text-align: right;\n",
       "    }\n",
       "</style>\n",
       "<table border=\"1\" class=\"dataframe\">\n",
       "  <thead>\n",
       "    <tr style=\"text-align: right;\">\n",
       "      <th></th>\n",
       "      <th>Genre_API &amp; Operating Environments</th>\n",
       "      <th>Genre_Action &amp; Adventure (Books)</th>\n",
       "      <th>Genre_Active Outdoor Pursuits (Books)</th>\n",
       "      <th>Genre_Aeronautical Engineering</th>\n",
       "      <th>Genre_Aesthetics</th>\n",
       "      <th>Genre_Agriculture &amp; Farming (Books)</th>\n",
       "      <th>Genre_Air Sports (Books)</th>\n",
       "      <th>Genre_Algebra &amp; Trigonometry</th>\n",
       "      <th>Genre_Algorithms</th>\n",
       "      <th>Genre_Alphabet Reference</th>\n",
       "      <th>...</th>\n",
       "      <th>Genre_Walking, Hiking &amp; Trekking (Books)</th>\n",
       "      <th>Genre_Waste Management</th>\n",
       "      <th>Genre_Winter Sports (Books)</th>\n",
       "      <th>Genre_Words, Language &amp; Grammar Reference</th>\n",
       "      <th>Genre_Workbooks</th>\n",
       "      <th>Genre_World African &amp; Middle Eastern Literature</th>\n",
       "      <th>Genre_Writing Guides (Books)</th>\n",
       "      <th>Genre_XHTML Software Programming</th>\n",
       "      <th>Genre_Young Adults' Money &amp; Jobs (Books)</th>\n",
       "      <th>Genre_Zoology</th>\n",
       "    </tr>\n",
       "  </thead>\n",
       "  <tbody>\n",
       "    <tr>\n",
       "      <th>0</th>\n",
       "      <td>0</td>\n",
       "      <td>1</td>\n",
       "      <td>0</td>\n",
       "      <td>0</td>\n",
       "      <td>0</td>\n",
       "      <td>0</td>\n",
       "      <td>0</td>\n",
       "      <td>0</td>\n",
       "      <td>0</td>\n",
       "      <td>0</td>\n",
       "      <td>...</td>\n",
       "      <td>0</td>\n",
       "      <td>0</td>\n",
       "      <td>0</td>\n",
       "      <td>0</td>\n",
       "      <td>0</td>\n",
       "      <td>0</td>\n",
       "      <td>0</td>\n",
       "      <td>0</td>\n",
       "      <td>0</td>\n",
       "      <td>0</td>\n",
       "    </tr>\n",
       "    <tr>\n",
       "      <th>1</th>\n",
       "      <td>0</td>\n",
       "      <td>0</td>\n",
       "      <td>0</td>\n",
       "      <td>0</td>\n",
       "      <td>0</td>\n",
       "      <td>0</td>\n",
       "      <td>0</td>\n",
       "      <td>0</td>\n",
       "      <td>0</td>\n",
       "      <td>0</td>\n",
       "      <td>...</td>\n",
       "      <td>0</td>\n",
       "      <td>0</td>\n",
       "      <td>0</td>\n",
       "      <td>0</td>\n",
       "      <td>0</td>\n",
       "      <td>0</td>\n",
       "      <td>0</td>\n",
       "      <td>0</td>\n",
       "      <td>0</td>\n",
       "      <td>0</td>\n",
       "    </tr>\n",
       "    <tr>\n",
       "      <th>2</th>\n",
       "      <td>0</td>\n",
       "      <td>0</td>\n",
       "      <td>0</td>\n",
       "      <td>0</td>\n",
       "      <td>0</td>\n",
       "      <td>0</td>\n",
       "      <td>0</td>\n",
       "      <td>0</td>\n",
       "      <td>0</td>\n",
       "      <td>0</td>\n",
       "      <td>...</td>\n",
       "      <td>0</td>\n",
       "      <td>0</td>\n",
       "      <td>0</td>\n",
       "      <td>0</td>\n",
       "      <td>0</td>\n",
       "      <td>0</td>\n",
       "      <td>0</td>\n",
       "      <td>0</td>\n",
       "      <td>0</td>\n",
       "      <td>0</td>\n",
       "    </tr>\n",
       "    <tr>\n",
       "      <th>3</th>\n",
       "      <td>0</td>\n",
       "      <td>0</td>\n",
       "      <td>0</td>\n",
       "      <td>0</td>\n",
       "      <td>0</td>\n",
       "      <td>0</td>\n",
       "      <td>0</td>\n",
       "      <td>0</td>\n",
       "      <td>0</td>\n",
       "      <td>0</td>\n",
       "      <td>...</td>\n",
       "      <td>0</td>\n",
       "      <td>0</td>\n",
       "      <td>0</td>\n",
       "      <td>0</td>\n",
       "      <td>0</td>\n",
       "      <td>0</td>\n",
       "      <td>0</td>\n",
       "      <td>0</td>\n",
       "      <td>0</td>\n",
       "      <td>0</td>\n",
       "    </tr>\n",
       "    <tr>\n",
       "      <th>4</th>\n",
       "      <td>0</td>\n",
       "      <td>0</td>\n",
       "      <td>0</td>\n",
       "      <td>0</td>\n",
       "      <td>0</td>\n",
       "      <td>0</td>\n",
       "      <td>0</td>\n",
       "      <td>0</td>\n",
       "      <td>0</td>\n",
       "      <td>0</td>\n",
       "      <td>...</td>\n",
       "      <td>0</td>\n",
       "      <td>0</td>\n",
       "      <td>0</td>\n",
       "      <td>0</td>\n",
       "      <td>0</td>\n",
       "      <td>0</td>\n",
       "      <td>0</td>\n",
       "      <td>0</td>\n",
       "      <td>0</td>\n",
       "      <td>0</td>\n",
       "    </tr>\n",
       "    <tr>\n",
       "      <th>...</th>\n",
       "      <td>...</td>\n",
       "      <td>...</td>\n",
       "      <td>...</td>\n",
       "      <td>...</td>\n",
       "      <td>...</td>\n",
       "      <td>...</td>\n",
       "      <td>...</td>\n",
       "      <td>...</td>\n",
       "      <td>...</td>\n",
       "      <td>...</td>\n",
       "      <td>...</td>\n",
       "      <td>...</td>\n",
       "      <td>...</td>\n",
       "      <td>...</td>\n",
       "      <td>...</td>\n",
       "      <td>...</td>\n",
       "      <td>...</td>\n",
       "      <td>...</td>\n",
       "      <td>...</td>\n",
       "      <td>...</td>\n",
       "      <td>...</td>\n",
       "    </tr>\n",
       "    <tr>\n",
       "      <th>7792</th>\n",
       "      <td>0</td>\n",
       "      <td>0</td>\n",
       "      <td>0</td>\n",
       "      <td>0</td>\n",
       "      <td>0</td>\n",
       "      <td>0</td>\n",
       "      <td>0</td>\n",
       "      <td>0</td>\n",
       "      <td>0</td>\n",
       "      <td>0</td>\n",
       "      <td>...</td>\n",
       "      <td>0</td>\n",
       "      <td>0</td>\n",
       "      <td>0</td>\n",
       "      <td>0</td>\n",
       "      <td>0</td>\n",
       "      <td>0</td>\n",
       "      <td>0</td>\n",
       "      <td>0</td>\n",
       "      <td>0</td>\n",
       "      <td>0</td>\n",
       "    </tr>\n",
       "    <tr>\n",
       "      <th>7793</th>\n",
       "      <td>0</td>\n",
       "      <td>0</td>\n",
       "      <td>0</td>\n",
       "      <td>0</td>\n",
       "      <td>0</td>\n",
       "      <td>0</td>\n",
       "      <td>0</td>\n",
       "      <td>0</td>\n",
       "      <td>0</td>\n",
       "      <td>0</td>\n",
       "      <td>...</td>\n",
       "      <td>0</td>\n",
       "      <td>0</td>\n",
       "      <td>0</td>\n",
       "      <td>0</td>\n",
       "      <td>0</td>\n",
       "      <td>0</td>\n",
       "      <td>0</td>\n",
       "      <td>0</td>\n",
       "      <td>0</td>\n",
       "      <td>0</td>\n",
       "    </tr>\n",
       "    <tr>\n",
       "      <th>7794</th>\n",
       "      <td>0</td>\n",
       "      <td>0</td>\n",
       "      <td>0</td>\n",
       "      <td>0</td>\n",
       "      <td>0</td>\n",
       "      <td>0</td>\n",
       "      <td>0</td>\n",
       "      <td>0</td>\n",
       "      <td>0</td>\n",
       "      <td>0</td>\n",
       "      <td>...</td>\n",
       "      <td>0</td>\n",
       "      <td>0</td>\n",
       "      <td>0</td>\n",
       "      <td>0</td>\n",
       "      <td>0</td>\n",
       "      <td>0</td>\n",
       "      <td>0</td>\n",
       "      <td>0</td>\n",
       "      <td>0</td>\n",
       "      <td>0</td>\n",
       "    </tr>\n",
       "    <tr>\n",
       "      <th>7795</th>\n",
       "      <td>0</td>\n",
       "      <td>0</td>\n",
       "      <td>0</td>\n",
       "      <td>0</td>\n",
       "      <td>0</td>\n",
       "      <td>0</td>\n",
       "      <td>0</td>\n",
       "      <td>0</td>\n",
       "      <td>0</td>\n",
       "      <td>0</td>\n",
       "      <td>...</td>\n",
       "      <td>0</td>\n",
       "      <td>0</td>\n",
       "      <td>0</td>\n",
       "      <td>0</td>\n",
       "      <td>0</td>\n",
       "      <td>0</td>\n",
       "      <td>0</td>\n",
       "      <td>0</td>\n",
       "      <td>0</td>\n",
       "      <td>0</td>\n",
       "    </tr>\n",
       "    <tr>\n",
       "      <th>7796</th>\n",
       "      <td>0</td>\n",
       "      <td>0</td>\n",
       "      <td>0</td>\n",
       "      <td>0</td>\n",
       "      <td>0</td>\n",
       "      <td>0</td>\n",
       "      <td>0</td>\n",
       "      <td>0</td>\n",
       "      <td>0</td>\n",
       "      <td>0</td>\n",
       "      <td>...</td>\n",
       "      <td>0</td>\n",
       "      <td>0</td>\n",
       "      <td>0</td>\n",
       "      <td>0</td>\n",
       "      <td>0</td>\n",
       "      <td>0</td>\n",
       "      <td>0</td>\n",
       "      <td>0</td>\n",
       "      <td>0</td>\n",
       "      <td>0</td>\n",
       "    </tr>\n",
       "  </tbody>\n",
       "</table>\n",
       "<p>7797 rows × 363 columns</p>\n",
       "</div>"
      ],
      "text/plain": [
       "      Genre_API & Operating Environments  Genre_Action & Adventure (Books)  \\\n",
       "0                                      0                                 1   \n",
       "1                                      0                                 0   \n",
       "2                                      0                                 0   \n",
       "3                                      0                                 0   \n",
       "4                                      0                                 0   \n",
       "...                                  ...                               ...   \n",
       "7792                                   0                                 0   \n",
       "7793                                   0                                 0   \n",
       "7794                                   0                                 0   \n",
       "7795                                   0                                 0   \n",
       "7796                                   0                                 0   \n",
       "\n",
       "      Genre_Active Outdoor Pursuits (Books)  Genre_Aeronautical Engineering  \\\n",
       "0                                         0                               0   \n",
       "1                                         0                               0   \n",
       "2                                         0                               0   \n",
       "3                                         0                               0   \n",
       "4                                         0                               0   \n",
       "...                                     ...                             ...   \n",
       "7792                                      0                               0   \n",
       "7793                                      0                               0   \n",
       "7794                                      0                               0   \n",
       "7795                                      0                               0   \n",
       "7796                                      0                               0   \n",
       "\n",
       "      Genre_Aesthetics  Genre_Agriculture & Farming (Books)  \\\n",
       "0                    0                                    0   \n",
       "1                    0                                    0   \n",
       "2                    0                                    0   \n",
       "3                    0                                    0   \n",
       "4                    0                                    0   \n",
       "...                ...                                  ...   \n",
       "7792                 0                                    0   \n",
       "7793                 0                                    0   \n",
       "7794                 0                                    0   \n",
       "7795                 0                                    0   \n",
       "7796                 0                                    0   \n",
       "\n",
       "      Genre_Air Sports (Books)  Genre_Algebra & Trigonometry  \\\n",
       "0                            0                             0   \n",
       "1                            0                             0   \n",
       "2                            0                             0   \n",
       "3                            0                             0   \n",
       "4                            0                             0   \n",
       "...                        ...                           ...   \n",
       "7792                         0                             0   \n",
       "7793                         0                             0   \n",
       "7794                         0                             0   \n",
       "7795                         0                             0   \n",
       "7796                         0                             0   \n",
       "\n",
       "      Genre_Algorithms  Genre_Alphabet Reference  ...  \\\n",
       "0                    0                         0  ...   \n",
       "1                    0                         0  ...   \n",
       "2                    0                         0  ...   \n",
       "3                    0                         0  ...   \n",
       "4                    0                         0  ...   \n",
       "...                ...                       ...  ...   \n",
       "7792                 0                         0  ...   \n",
       "7793                 0                         0  ...   \n",
       "7794                 0                         0  ...   \n",
       "7795                 0                         0  ...   \n",
       "7796                 0                         0  ...   \n",
       "\n",
       "      Genre_Walking, Hiking & Trekking (Books)  Genre_Waste Management  \\\n",
       "0                                            0                       0   \n",
       "1                                            0                       0   \n",
       "2                                            0                       0   \n",
       "3                                            0                       0   \n",
       "4                                            0                       0   \n",
       "...                                        ...                     ...   \n",
       "7792                                         0                       0   \n",
       "7793                                         0                       0   \n",
       "7794                                         0                       0   \n",
       "7795                                         0                       0   \n",
       "7796                                         0                       0   \n",
       "\n",
       "      Genre_Winter Sports (Books)  Genre_Words, Language & Grammar Reference  \\\n",
       "0                               0                                          0   \n",
       "1                               0                                          0   \n",
       "2                               0                                          0   \n",
       "3                               0                                          0   \n",
       "4                               0                                          0   \n",
       "...                           ...                                        ...   \n",
       "7792                            0                                          0   \n",
       "7793                            0                                          0   \n",
       "7794                            0                                          0   \n",
       "7795                            0                                          0   \n",
       "7796                            0                                          0   \n",
       "\n",
       "      Genre_Workbooks  Genre_World African & Middle Eastern Literature  \\\n",
       "0                   0                                                0   \n",
       "1                   0                                                0   \n",
       "2                   0                                                0   \n",
       "3                   0                                                0   \n",
       "4                   0                                                0   \n",
       "...               ...                                              ...   \n",
       "7792                0                                                0   \n",
       "7793                0                                                0   \n",
       "7794                0                                                0   \n",
       "7795                0                                                0   \n",
       "7796                0                                                0   \n",
       "\n",
       "      Genre_Writing Guides (Books)  Genre_XHTML Software Programming  \\\n",
       "0                                0                                 0   \n",
       "1                                0                                 0   \n",
       "2                                0                                 0   \n",
       "3                                0                                 0   \n",
       "4                                0                                 0   \n",
       "...                            ...                               ...   \n",
       "7792                             0                                 0   \n",
       "7793                             0                                 0   \n",
       "7794                             0                                 0   \n",
       "7795                             0                                 0   \n",
       "7796                             0                                 0   \n",
       "\n",
       "      Genre_Young Adults' Money & Jobs (Books)  Genre_Zoology  \n",
       "0                                            0              0  \n",
       "1                                            0              0  \n",
       "2                                            0              0  \n",
       "3                                            0              0  \n",
       "4                                            0              0  \n",
       "...                                        ...            ...  \n",
       "7792                                         0              0  \n",
       "7793                                         0              0  \n",
       "7794                                         0              0  \n",
       "7795                                         0              0  \n",
       "7796                                         0              0  \n",
       "\n",
       "[7797 rows x 363 columns]"
      ]
     },
     "execution_count": 190,
     "metadata": {},
     "output_type": "execute_result"
    }
   ],
   "source": [
    "encoding_Genre = pd.get_dummies(train.Genre, prefix='Genre')\n",
    "# encoding_Bookcat = pd.get_dummies(train.BookCategory, prefix='BookCategory')\n",
    "encoding_Author = pd.get_dummies(train.Author, prefix='Author')\n",
    "# train1=pd.concat([train,encoding_Bookcat,encoding_Genre],axis=1)\n",
    "encoding_Genre"
   ]
  },
  {
   "cell_type": "code",
   "execution_count": 191,
   "metadata": {},
   "outputs": [],
   "source": [
    "train1=pd.concat([train,encoding_Genre,encoding_Author],axis=1)\n",
    "data = train1.drop([\"Title\",\"Ratings\",\"Edition\",\"Genre_API & Operating Environments\",\"BookCategory\",\"Genre\",\"Author\",\"Author_Ziauddin Sardar\",\"Synopsis\"], axis=1)"
   ]
  },
  {
   "cell_type": "code",
   "execution_count": 192,
   "metadata": {},
   "outputs": [],
   "source": [
    "target=train_real1['Price'][0:6237]"
   ]
  },
  {
   "cell_type": "code",
   "execution_count": 28,
   "metadata": {},
   "outputs": [],
   "source": [
    "# data=data[[\"Price\",\"Ratings\",\"polarity\"]]\n"
   ]
  },
  {
   "cell_type": "code",
   "execution_count": 29,
   "metadata": {},
   "outputs": [],
   "source": [
    "# correlation=data.corr()\n",
    "# corr1=correlation['Price'].sort_values(ascending=False)\n",
    "# corr2= corr1[abs(corr1)>.00]\n",
    "\n",
    "# list1=list(corr2.index)[1:]\n",
    "# data=data[list1]"
   ]
  },
  {
   "cell_type": "code",
   "execution_count": 30,
   "metadata": {},
   "outputs": [],
   "source": [
    "# data"
   ]
  },
  {
   "cell_type": "code",
   "execution_count": 193,
   "metadata": {},
   "outputs": [],
   "source": [
    "# correlation=data.corr()\n",
    "# corr1=correlation['Price'].sort_values(ascending=False)\n",
    "# corr1[abs(corr1)>.1]\n",
    "data_train=data[0:6237]\n",
    "data_train=data_train.drop(['Price'],axis=1)\n",
    "data_test=data[6237:]\n",
    "data_test=data_test.drop(['Price'],axis=1)\n",
    "# data=data[[\"BookCategory_Computing, Internet & Digital Media\",\"Genre_Comics\",\"BookCategory_Arts, Film & Photography\",\"Genre_Labor & Industrial Relations\",\"Genre_Photography Textbooks\",\"Genre_Design\",\"Genre_Software & Business Applications (Books)\",\"BookCategory_Biographies, Diaries & True Accounts\",\"BookCategory_Crime, Thriller & Mystery\"]][0:6237]\n",
    "# corr1"
   ]
  },
  {
   "cell_type": "code",
   "execution_count": 194,
   "metadata": {},
   "outputs": [
    {
     "data": {
      "text/plain": [
       "(6237, 4736)"
      ]
     },
     "execution_count": 194,
     "metadata": {},
     "output_type": "execute_result"
    }
   ],
   "source": [
    "data_train.shape"
   ]
  },
  {
   "cell_type": "code",
   "execution_count": 195,
   "metadata": {},
   "outputs": [],
   "source": [
    "from sklearn.ensemble import GradientBoostingRegressor\n",
    "from sklearn.metrics import r2_score\n",
    "import numpy as np\n",
    "from sklearn.model_selection import StratifiedKFold  #for classifier\n",
    "from sklearn.model_selection import KFold #for regression\n",
    "from sklearn.model_selection import RepeatedKFold\n",
    "from sklearn.model_selection import train_test_split\n",
    "import time\n",
    "# Create train/test\n",
    "x_train, x_test, y_train, y_test = train_test_split(data_train,target, test_size=0.3,random_state=42)"
   ]
  },
  {
   "cell_type": "code",
   "execution_count": null,
   "metadata": {},
   "outputs": [],
   "source": []
  },
  {
   "cell_type": "code",
   "execution_count": 35,
   "metadata": {},
   "outputs": [],
   "source": [
    "# # !pip install lightgbm\n",
    "# import lightgbm as lgb\n",
    " \n",
    "# # Similarly LGBMRegressor can also be imported for a regression model.\n",
    "# from lightgbm import LGBMClassifier\n",
    "# # lg = LGBMClassifier()\n",
    "# lg = lgb.LGBMRegressor()\n",
    "# model=lg.fit(x_train, y_train)\n",
    "# performance()"
   ]
  },
  {
   "cell_type": "code",
   "execution_count": 196,
   "metadata": {},
   "outputs": [
    {
     "name": "stdout",
     "output_type": "stream",
     "text": [
      "<class 'pandas.core.frame.DataFrame'>\n",
      "RangeIndex: 6237 entries, 0 to 6236\n",
      "Columns: 4736 entries, Reviews to Author_sister Jesme\n",
      "dtypes: float64(2), object(1), uint8(4733)\n",
      "memory usage: 28.3+ MB\n"
     ]
    }
   ],
   "source": [
    "data_train.info()"
   ]
  },
  {
   "cell_type": "code",
   "execution_count": 197,
   "metadata": {},
   "outputs": [],
   "source": [
    "import xgboost\n",
    "plt.style.use('ggplot')\n",
    "import sklearn.metrics as metrics\n",
    "from matplotlib import style\n",
    "from sklearn.model_selection import cross_val_score\n",
    "from sklearn.model_selection import train_test_split\n",
    "# xg=xgboost.XGBRegressor(objective ='reg:squarederror', colsample_bytree = 0.4, learning_rate = 0.2, max_depth = 5, alpha = 10, n_estimators = 200)      \n",
    "# model=xg.fit(x_train,y_train)\n",
    "# performance()\n",
    "# # print(\"------------------------------------------------------\")\n",
    "# # define model evaluation method\n",
    "# cv = RepeatedKFold(n_splits=10, n_repeats=3, random_state=1)\n",
    "# # evaluate model\n",
    "# scores = cross_val_score(model, data, target, scoring='neg_mean_absolute_error', cv=cv, n_jobs=-1)\n",
    "# # force scores to be positive\n",
    "# scores = abs(scores)\n",
    "# print('Mean MAE: %.3f (%.3f)' % (scores.mean(), scores.std()) )"
   ]
  },
  {
   "cell_type": "code",
   "execution_count": 198,
   "metadata": {},
   "outputs": [
    {
     "name": "stdout",
     "output_type": "stream",
     "text": [
      "Model performance in Train Data\n",
      "Final score (MSE): 368406.4764595815\n",
      "Final score (RMSE): 606.9649713612653\n",
      "Final score (R^2): 0.25592127818594557\n",
      "Average Error: 347.2468\n",
      "Accuracy = -1.89%\n",
      "evaulation 0.6511306823870819\n",
      "Model performance in Test Data\n",
      "Final score (MSE): 421535.8294354646\n",
      "Final score (RMSE): 649.2579067177115\n",
      "Final score (R^2): 0.024245867264327647\n",
      "Average Error: 354.3116\n",
      "Accuracy = 0.48%\n",
      "evaulation 0.6496835054025913\n"
     ]
    },
    {
     "data": {
      "image/png": "[encoded data removed]",
      "text/plain": [
       "<Figure size 432x288 with 1 Axes>"
      ]
     },
     "metadata": {},
     "output_type": "display_data"
    }
   ],
   "source": [
    "from sklearn.ensemble import GradientBoostingRegressor\n",
    "model=GradientBoostingRegressor(max_depth=1,n_estimators=500,learning_rate=0.01)\n",
    "model.fit(x_train,y_train)\n",
    "performance()"
   ]
  },
  {
   "cell_type": "code",
   "execution_count": 587,
   "metadata": {},
   "outputs": [],
   "source": [
    "# data_test=data_test.drop(['Price'],axis=1)"
   ]
  },
  {
   "cell_type": "code",
   "execution_count": 606,
   "metadata": {},
   "outputs": [],
   "source": [
    "y_pred=model.predict(data_test)"
   ]
  },
  {
   "cell_type": "code",
   "execution_count": 607,
   "metadata": {},
   "outputs": [
    {
     "data": {
      "text/plain": [
       "array([519.90584565, 652.94341296, 652.94341296, ..., 519.90584565,\n",
       "       519.90584565, 519.90584565])"
      ]
     },
     "execution_count": 607,
     "metadata": {},
     "output_type": "execute_result"
    }
   ],
   "source": [
    "y_pred"
   ]
  },
  {
   "cell_type": "code",
   "execution_count": 199,
   "metadata": {},
   "outputs": [
    {
     "name": "stderr",
     "output_type": "stream",
     "text": [
      "C:\\anaconda\\envs\\tenso\\lib\\site-packages\\sklearn\\ensemble\\forest.py:245: FutureWarning: The default value of n_estimators will change from 10 in version 0.20 to 100 in 0.22.\n",
      "  \"10 in version 0.20 to 100 in 0.22.\", FutureWarning)\n"
     ]
    },
    {
     "name": "stdout",
     "output_type": "stream",
     "text": [
      "Model performance in Train Data\n",
      "Final score (MSE): 64687.801222989925\n",
      "Final score (RMSE): 254.33796653859983\n",
      "Final score (R^2): 0.869348614841073\n",
      "Average Error: 102.2385\n",
      "Accuracy = 79.79%\n",
      "evaulation 0.8838200762467173\n",
      "Model performance in Test Data\n",
      "Final score (MSE): 394828.83216834924\n",
      "Final score (RMSE): 628.3540659280794\n",
      "Final score (R^2): 0.08606614714717387\n",
      "Average Error: 274.0510\n",
      "Accuracy = 49.51%\n",
      "evaulation 0.7179475566299606\n"
     ]
    },
    {
     "data": {
      "image/png": "[encoded data removed]",
      "text/plain": [
       "<Figure size 432x288 with 1 Axes>"
      ]
     },
     "metadata": {},
     "output_type": "display_data"
    }
   ],
   "source": [
    "from sklearn.ensemble import RandomForestRegressor\n",
    "model=RandomForestRegressor()      \n",
    "model.fit(x_train,y_train)\n",
    "performance()"
   ]
  },
  {
   "cell_type": "code",
   "execution_count": 85,
   "metadata": {},
   "outputs": [
    {
     "name": "stdout",
     "output_type": "stream",
     "text": [
      "Model performance in Train Data\n",
      "Final score (MSE): 4.308201282704583e+16\n",
      "Final score (RMSE): 207562069.8177917\n",
      "Final score (R^2): -90924907951.86952\n",
      "Average Error: 35390339.8252\n",
      "Accuracy = -7947852.35%\n",
      "evaulation -3.176613804354667\n",
      "Model performance in Test Data\n",
      "Final score (MSE): 9906629325833776.0\n",
      "Final score (RMSE): 99532051.75135182\n",
      "Final score (R^2): -20585551344.043415\n",
      "Average Error: 22260891.9722\n",
      "Accuracy = -5944343.98%\n",
      "evaulation -3.1599669980154816\n"
     ]
    },
    {
     "name": "stderr",
     "output_type": "stream",
     "text": [
      "C:\\anaconda\\envs\\tenso\\lib\\site-packages\\ipykernel_launcher.py:21: RuntimeWarning: invalid value encountered in log10\n",
      "C:\\anaconda\\envs\\tenso\\lib\\site-packages\\ipykernel_launcher.py:21: RuntimeWarning: invalid value encountered in log10\n"
     ]
    },
    {
     "data": {
      "image/png": "[encoded data removed]",
      "text/plain": [
       "<Figure size 432x288 with 1 Axes>"
      ]
     },
     "metadata": {},
     "output_type": "display_data"
    }
   ],
   "source": [
    "from sklearn.linear_model import SGDRegressor\n",
    "from sklearn.pipeline import make_pipeline\n",
    "from sklearn.preprocessing import StandardScaler\n",
    "model = make_pipeline(StandardScaler(),SGDRegressor(max_iter=1000, tol=1e-3))\n",
    "model.fit(x_train,y_train)\n",
    "performance()"
   ]
  },
  {
   "cell_type": "code",
   "execution_count": 86,
   "metadata": {},
   "outputs": [
    {
     "name": "stdout",
     "output_type": "stream",
     "text": [
      "Model performance in Train Data\n",
      "Final score (MSE): 454.06700407025585\n",
      "Final score (RMSE): 21.3088480230691\n",
      "Final score (R^2): 0.9990416882164892\n",
      "Average Error: 2.5686\n",
      "Accuracy = 99.55%\n",
      "evaulation 0.9895881717994064\n",
      "Model performance in Test Data\n",
      "Final score (MSE): 505717.8921527199\n",
      "Final score (RMSE): 711.1384479499894\n",
      "Final score (R^2): -0.050860115243159365\n",
      "Average Error: 306.1784\n",
      "Accuracy = 42.90%\n",
      "evaulation 0.6662331448680747\n"
     ]
    },
    {
     "data": {
      "image/png": "[encoded data removed]",
      "text/plain": [
       "<Figure size 432x288 with 1 Axes>"
      ]
     },
     "metadata": {},
     "output_type": "display_data"
    }
   ],
   "source": [
    "from sklearn import tree\n",
    "\n",
    "model = tree.DecisionTreeRegressor()\n",
    "model.fit(x_train,y_train)\n",
    "performance()"
   ]
  },
  {
   "cell_type": "code",
   "execution_count": 87,
   "metadata": {},
   "outputs": [
    {
     "name": "stderr",
     "output_type": "stream",
     "text": [
      "C:\\anaconda\\envs\\tenso\\lib\\site-packages\\sklearn\\neural_network\\multilayer_perceptron.py:566: ConvergenceWarning: Stochastic Optimizer: Maximum iterations (500) reached and the optimization hasn't converged yet.\n",
      "  % self.max_iter, ConvergenceWarning)\n"
     ]
    },
    {
     "name": "stdout",
     "output_type": "stream",
     "text": [
      "Model performance in Train Data\n",
      "Final score (MSE): 207454.77587726884\n",
      "Final score (RMSE): 455.4720363285422\n",
      "Final score (R^2): 0.562165155171621\n",
      "Average Error: 147.1685\n",
      "Accuracy = 68.64%\n",
      "evaulation 0.8238792126491855\n",
      "Model performance in Test Data\n",
      "Final score (MSE): 423454.85009364155\n",
      "Final score (RMSE): 650.7340855477308\n",
      "Final score (R^2): 0.12007896205638413\n",
      "Average Error: 346.0326\n",
      "Accuracy = 11.83%\n",
      "evaulation 0.6726009734541116\n"
     ]
    },
    {
     "data": {
      "image/png": "[encoded data removed]",
      "text/plain": [
       "<Figure size 432x288 with 1 Axes>"
      ]
     },
     "metadata": {},
     "output_type": "display_data"
    }
   ],
   "source": [
    "from sklearn.neural_network import MLPRegressor\n",
    "from sklearn.datasets import make_regression\n",
    "model = MLPRegressor(random_state=1, max_iter=500, verbose=True)\n",
    "model.fit(x_train,y_train)\n",
    "performance()"
   ]
  },
  {
   "cell_type": "code",
   "execution_count": 206,
   "metadata": {},
   "outputs": [
    {
     "name": "stdout",
     "output_type": "stream",
     "text": [
      "Model performance in Train Data\n",
      "Final score (MSE): 115856.3860093692\n",
      "Final score (RMSE): 340.37682942493194\n",
      "Final score (R^2): 0.7570737006457748\n",
      "Average Error: 156.2873\n",
      "Accuracy = 61.69%\n",
      "evaulation nan\n",
      "Model performance in Test Data\n",
      "Final score (MSE): 340083.53414522094\n",
      "Final score (RMSE): 583.1668150239869\n",
      "Final score (R^2): 0.269472668932509\n",
      "Average Error: 269.1850\n",
      "Accuracy = 29.65%\n",
      "evaulation 0.7139605797333279\n"
     ]
    },
    {
     "name": "stderr",
     "output_type": "stream",
     "text": [
      "C:\\anaconda\\envs\\tenso\\lib\\site-packages\\ipykernel_launcher.py:21: RuntimeWarning: invalid value encountered in log10\n"
     ]
    },
    {
     "data": {
      "image/png": "[encoded data removed]",
      "text/plain": [
       "<Figure size 432x288 with 1 Axes>"
      ]
     },
     "metadata": {},
     "output_type": "display_data"
    }
   ],
   "source": [
    "from sklearn import linear_model\n",
    "model = linear_model.BayesianRidge()\n",
    "model.fit(x_train,y_train)\n",
    "performance()"
   ]
  },
  {
   "cell_type": "code",
   "execution_count": 60,
   "metadata": {},
   "outputs": [
    {
     "name": "stderr",
     "output_type": "stream",
     "text": [
      "C:\\anaconda\\envs\\tenso\\lib\\site-packages\\sklearn\\svm\\base.py:193: FutureWarning: The default value of gamma will change from 'auto' to 'scale' in version 0.22 to account better for unscaled features. Set gamma explicitly to 'auto' or 'scale' to avoid this warning.\n",
      "  \"avoid this warning.\", FutureWarning)\n"
     ]
    },
    {
     "name": "stdout",
     "output_type": "stream",
     "text": [
      "Model performance in Train Data\n",
      "Final score (MSE): 527367.4230100451\n",
      "Final score (RMSE): 726.2006768173967\n",
      "Final score (R^2): -0.06930265981584305\n",
      "Average Error: 316.9914\n",
      "Accuracy = 36.65%\n",
      "evaulation 0.6671480510604321\n",
      "Model performance in Test Data\n",
      "Final score (MSE): 450354.3842226027\n",
      "Final score (RMSE): 671.0844836699792\n",
      "Final score (R^2): -0.08281919781597402\n",
      "Average Error: 313.6824\n",
      "Accuracy = 41.10%\n",
      "evaulation 0.6739217869548784\n"
     ]
    },
    {
     "data": {
      "image/png": "[encoded data removed]",
      "text/plain": [
       "<Figure size 432x288 with 1 Axes>"
      ]
     },
     "metadata": {},
     "output_type": "display_data"
    }
   ],
   "source": [
    "from sklearn import svm\n",
    "model = svm.SVR()\n",
    "model.fit(x_train,y_train)\n",
    "performance()"
   ]
  },
  {
   "cell_type": "code",
   "execution_count": 64,
   "metadata": {},
   "outputs": [],
   "source": [
    "# from sklearn.neighbors import KNeighborsTransformer\n",
    "# from sklearn.datasets import make_regression\n",
    "# model = make_pipeline(KNeighborsTransformer(mode='distance'),Isomap(n_components=3, metric='precomputed'),memory=cache_path)\n",
    "# model.fit(x_train,y_train)\n",
    "# performance()"
   ]
  },
  {
   "cell_type": "code",
   "execution_count": 89,
   "metadata": {},
   "outputs": [
    {
     "name": "stdout",
     "output_type": "stream",
     "text": [
      "Model performance in Train Data\n",
      "Final score (MSE): 468246.8856931718\n",
      "Final score (RMSE): 684.2856754990358\n",
      "Final score (R^2): 0.011761471039214544\n",
      "Average Error: 360.4492\n",
      "Accuracy = -4.85%\n",
      "evaulation 0.640277409360992\n",
      "Model performance in Test Data\n",
      "Final score (MSE): 476036.0003246595\n",
      "Final score (RMSE): 689.9536218650204\n",
      "Final score (R^2): 0.010817584421164872\n",
      "Average Error: 359.3734\n",
      "Accuracy = 3.16%\n",
      "evaulation 0.6532050900740314\n"
     ]
    },
    {
     "data": {
      "image/png": "[encoded data removed]",
      "text/plain": [
       "<Figure size 432x288 with 1 Axes>"
      ]
     },
     "metadata": {},
     "output_type": "display_data"
    }
   ],
   "source": [
    "from sklearn.gaussian_process import GaussianProcessRegressor\n",
    "from sklearn.gaussian_process.kernels import DotProduct, WhiteKernel\n",
    "kernel = DotProduct() + WhiteKernel()\n",
    "model = GaussianProcessRegressor(kernel=kernel,random_state=0)\n",
    "model.fit(x_train,y_train)\n",
    "performance()"
   ]
  },
  {
   "cell_type": "code",
   "execution_count": 70,
   "metadata": {},
   "outputs": [
    {
     "name": "stdout",
     "output_type": "stream",
     "text": [
      "Model performance in Train Data\n",
      "Final score (MSE): 52929.93967033759\n",
      "Final score (RMSE): 230.06507703329854\n",
      "Final score (R^2): 0.8926780024629887\n",
      "Average Error: 61.8438\n",
      "Accuracy = 84.32%\n",
      "evaulation 0.8742234245451767\n",
      "Model performance in Test Data\n",
      "Final score (MSE): 4.347236738601453e+24\n",
      "Final score (RMSE): 2085002815010.4385\n",
      "Final score (R^2): -1.0452371649793532e+19\n",
      "Average Error: 948868499341.5632\n",
      "Accuracy = -236591761015.10%\n",
      "evaulation -1.2988310427711411\n"
     ]
    },
    {
     "name": "stderr",
     "output_type": "stream",
     "text": [
      "C:\\anaconda\\envs\\tenso\\lib\\site-packages\\ipykernel_launcher.py:21: RuntimeWarning: invalid value encountered in log10\n",
      "C:\\anaconda\\envs\\tenso\\lib\\site-packages\\ipykernel_launcher.py:21: RuntimeWarning: invalid value encountered in log10\n"
     ]
    },
    {
     "data": {
      "image/png": "[encoded data removed]",
      "text/plain": [
       "<Figure size 432x288 with 1 Axes>"
      ]
     },
     "metadata": {},
     "output_type": "display_data"
    }
   ],
   "source": [
    "model = linear_model.LinearRegression()\n",
    "model.fit(x_train,y_train)\n",
    "performance()"
   ]
  },
  {
   "cell_type": "code",
   "execution_count": 205,
   "metadata": {},
   "outputs": [
    {
     "name": "stdout",
     "output_type": "stream",
     "text": [
      "Model performance in Train Data\n",
      "Final score (MSE): 95042.72651359341\n",
      "Final score (RMSE): 308.2900039144854\n",
      "Final score (R^2): 0.8007155356061615\n",
      "Average Error: 135.9920\n",
      "Accuracy = 66.74%\n",
      "evaulation nan\n",
      "Model performance in Test Data\n",
      "Final score (MSE): 336914.8869885963\n",
      "Final score (RMSE): 580.4436983796071\n",
      "Final score (R^2): 0.2762791829739537\n",
      "Average Error: 267.6074\n",
      "Accuracy = 30.43%\n",
      "evaulation nan\n"
     ]
    },
    {
     "name": "stderr",
     "output_type": "stream",
     "text": [
      "C:\\anaconda\\envs\\tenso\\lib\\site-packages\\ipykernel_launcher.py:21: RuntimeWarning: invalid value encountered in log10\n",
      "C:\\anaconda\\envs\\tenso\\lib\\site-packages\\ipykernel_launcher.py:21: RuntimeWarning: invalid value encountered in log10\n"
     ]
    },
    {
     "data": {
      "image/png": "[encoded data removed]",
      "text/plain": [
       "<Figure size 432x288 with 1 Axes>"
      ]
     },
     "metadata": {},
     "output_type": "display_data"
    }
   ],
   "source": [
    "model = linear_model.Ridge(alpha=.5)\n",
    "model.fit(x_train,y_train)\n",
    "performance()"
   ]
  },
  {
   "cell_type": "code",
   "execution_count": 75,
   "metadata": {},
   "outputs": [],
   "source": [
    "# from sklearn.cross_decomposition import PLSRegression\n",
    "# model = PLSRegression(n_components=2)\n",
    "# model.fit(x_train,y_train)\n",
    "# performance()"
   ]
  },
  {
   "cell_type": "code",
   "execution_count": 106,
   "metadata": {},
   "outputs": [
    {
     "name": "stdout",
     "output_type": "stream",
     "text": [
      "Model performance in Train Data\n",
      "Final score (MSE): 1298355.7158494175\n",
      "Final score (RMSE): 1139.454130647398\n",
      "Final score (R^2): -1.7401893785143576\n",
      "Average Error: 1075.7682\n",
      "Accuracy = -307.78%\n",
      "evaulation 0.33005226451960035\n",
      "Model performance in Test Data\n",
      "Final score (MSE): 1361275.0142391063\n",
      "Final score (RMSE): 1166.736908749829\n",
      "Final score (R^2): -1.8286711633863773\n",
      "Average Error: 1065.0954\n",
      "Accuracy = -282.06%\n",
      "evaulation 0.3515292306833414\n"
     ]
    },
    {
     "data": {
      "image/png": "[encoded data removed]",
      "text/plain": [
       "<Figure size 432x288 with 1 Axes>"
      ]
     },
     "metadata": {},
     "output_type": "display_data"
    }
   ],
   "source": [
    "from sklearn.ensemble import AdaBoostRegressor\n",
    "model = AdaBoostRegressor(random_state=20, n_estimators=50)\n",
    "model.fit(x_train,y_train)\n",
    "performance()"
   ]
  },
  {
   "cell_type": "code",
   "execution_count": 69,
   "metadata": {},
   "outputs": [],
   "source": [
    "# from sklearn.datasets import load_diabetes\n",
    "# from sklearn.ensemble import GradientBoostingRegressor\n",
    "# from sklearn.ensemble import RandomForestRegressor\n",
    "# from sklearn.linear_model import LinearRegression\n",
    "# from sklearn.ensemble import VotingRegressor\n",
    "\n",
    "#  # Training classifiers\n",
    "# reg1 = GradientBoostingRegressor(random_state=1)\n",
    "# reg2 = RandomForestRegressor(random_state=1)\n",
    "# reg3 = LinearRegression()\n",
    "# model = VotingRegressor(estimators=[('gb', reg1), ('rf', reg2), ('lr', reg3)])\n",
    "# model.fit(x_train,y_train)\n",
    "# performance()"
   ]
  },
  {
   "cell_type": "code",
   "execution_count": 44,
   "metadata": {},
   "outputs": [],
   "source": [
    "y_pred=model.predict(data_test)\n",
    "y_pred= pd.DataFrame(y_pred, columns=['Price'])\n",
    "y_pred.to_csv(\"C:\\\\Users\\\\Arzun\\\\Desktop\\\\DSprojects\\\\Participants_Data\\\\Submission.csv\", index=False)"
   ]
  },
  {
   "cell_type": "code",
   "execution_count": 49,
   "metadata": {},
   "outputs": [],
   "source": []
  },
  {
   "cell_type": "code",
   "execution_count": 41,
   "metadata": {},
   "outputs": [
    {
     "data": {
      "text/html": [
       "<div>\n",
       "<style scoped>\n",
       "    .dataframe tbody tr th:only-of-type {\n",
       "        vertical-align: middle;\n",
       "    }\n",
       "\n",
       "    .dataframe tbody tr th {\n",
       "        vertical-align: top;\n",
       "    }\n",
       "\n",
       "    .dataframe thead th {\n",
       "        text-align: right;\n",
       "    }\n",
       "</style>\n",
       "<table border=\"1\" class=\"dataframe\">\n",
       "  <thead>\n",
       "    <tr style=\"text-align: right;\">\n",
       "      <th></th>\n",
       "      <th>Price</th>\n",
       "    </tr>\n",
       "  </thead>\n",
       "  <tbody>\n",
       "    <tr>\n",
       "      <th>0</th>\n",
       "      <td>119</td>\n",
       "    </tr>\n",
       "    <tr>\n",
       "      <th>1</th>\n",
       "      <td>123</td>\n",
       "    </tr>\n",
       "    <tr>\n",
       "      <th>2</th>\n",
       "      <td>108</td>\n",
       "    </tr>\n",
       "    <tr>\n",
       "      <th>3</th>\n",
       "      <td>118</td>\n",
       "    </tr>\n",
       "    <tr>\n",
       "      <th>4</th>\n",
       "      <td>132</td>\n",
       "    </tr>\n",
       "  </tbody>\n",
       "</table>\n",
       "</div>"
      ],
      "text/plain": [
       "   Price\n",
       "0    119\n",
       "1    123\n",
       "2    108\n",
       "3    118\n",
       "4    132"
      ]
     },
     "execution_count": 41,
     "metadata": {},
     "output_type": "execute_result"
    }
   ],
   "source": [
    "sample_submission.head()"
   ]
  },
  {
   "cell_type": "code",
   "execution_count": 108,
   "metadata": {},
   "outputs": [],
   "source": [
    "# from sklearn.model_selection import KFold\n",
    "\n",
    "# X = np. array(data_train)\n",
    "# y = np.array(data_test)\n",
    "# kf = KFold(n_splits=2)\n",
    "\n",
    "# for train_index, test_index in kf.split(X):\n",
    "#     print(\"TRAIN:\", train_index, \"TEST:\", test_index)\n",
    "#     X_train, X_test = X[train_index], X[test_index]\n",
    "#     y_train, y_test = y[train_index], y[test_index]"
   ]
  },
  {
   "cell_type": "code",
   "execution_count": 200,
   "metadata": {},
   "outputs": [],
   "source": [
    "x = data_train.to_numpy()\n",
    "y = target.to_numpy()"
   ]
  },
  {
   "cell_type": "code",
   "execution_count": 201,
   "metadata": {},
   "outputs": [
    {
     "data": {
      "text/plain": [
       "((6237, 4736), (6237,))"
      ]
     },
     "execution_count": 201,
     "metadata": {},
     "output_type": "execute_result"
    }
   ],
   "source": [
    "x.shape,y.shape"
   ]
  },
  {
   "cell_type": "code",
   "execution_count": null,
   "metadata": {},
   "outputs": [],
   "source": []
  },
  {
   "cell_type": "code",
   "execution_count": 202,
   "metadata": {},
   "outputs": [
    {
     "name": "stdout",
     "output_type": "stream",
     "text": [
      "4990 1247\n"
     ]
    },
    {
     "name": "stderr",
     "output_type": "stream",
     "text": [
      "C:\\anaconda\\envs\\tenso\\lib\\site-packages\\sklearn\\ensemble\\forest.py:245: FutureWarning: The default value of n_estimators will change from 10 in version 0.20 to 100 in 0.22.\n",
      "  \"10 in version 0.20 to 100 in 0.22.\", FutureWarning)\n"
     ]
    },
    {
     "name": "stdout",
     "output_type": "stream",
     "text": [
      "Model performance in Train Data\n",
      "Final score (MSE): 84329.08845900059\n",
      "Final score (RMSE): 290.394711485937\n",
      "Final score (R^2): 0.8218954819614803\n",
      "Average Error: 105.2157\n",
      "Accuracy = 80.90%\n",
      "evaulation 0.8899805943444645\n",
      "Model performance in Test Data\n",
      "Final score (MSE): 461989.7701963829\n",
      "Final score (RMSE): 679.6982935070405\n",
      "Final score (R^2): 0.051195720042324866\n",
      "Average Error: 272.6556\n",
      "Accuracy = 47.76%\n",
      "evaulation 0.7141414045890109\n"
     ]
    },
    {
     "data": {
      "image/png": "[encoded data removed]",
      "text/plain": [
       "<Figure size 432x288 with 1 Axes>"
      ]
     },
     "metadata": {},
     "output_type": "display_data"
    }
   ],
   "source": [
    "# scikit-learn k-fold cross-validation\n",
    "from numpy import array\n",
    "from sklearn.model_selection import KFold\n",
    "\n",
    "# prepare cross validation\n",
    "kfold = KFold(5, True, 1)\n",
    "# enumerate splits\n",
    "for train_index, test_index in kfold.split(x):\n",
    "    \n",
    "    x_train,x_test=x[train_index],x[test_index]\n",
    "    y_train,y_test=y[train_index],y[test_index]\n",
    "#     print('train: %s, test: %s' % (train_index, test_index))\n",
    "print(len(train_index),len(test_index))\n",
    "    \n",
    "from sklearn.ensemble import RandomForestRegressor\n",
    "model=RandomForestRegressor()      \n",
    "model.fit(x_train,y_train)\n",
    "performance()"
   ]
  },
  {
   "cell_type": "code",
   "execution_count": 139,
   "metadata": {},
   "outputs": [
    {
     "name": "stdout",
     "output_type": "stream",
     "text": [
      "train: [   0    1    2 ... 6234 6235 6236], test: [   3   15   20 ... 6225 6229 6231]\n",
      "train: [   0    1    3 ... 6234 6235 6236], test: [   2    4    5 ... 6222 6226 6230]\n",
      "train: [   0    1    2 ... 6231 6233 6234], test: [   9   11   22 ... 6232 6235 6236]\n",
      "train: [   0    1    2 ... 6234 6235 6236], test: [   6    8   12 ... 6217 6227 6233]\n",
      "train: [   2    3    4 ... 6233 6235 6236], test: [   0    1   10 ... 6218 6224 6234]\n",
      "4990 1247\n"
     ]
    },
    {
     "name": "stderr",
     "output_type": "stream",
     "text": [
      "C:\\anaconda\\envs\\tenso\\lib\\site-packages\\sklearn\\ensemble\\forest.py:245: FutureWarning: The default value of n_estimators will change from 10 in version 0.20 to 100 in 0.22.\n",
      "  \"10 in version 0.20 to 100 in 0.22.\", FutureWarning)\n"
     ]
    },
    {
     "name": "stdout",
     "output_type": "stream",
     "text": [
      "Model performance in Train Data\n",
      "Final score (MSE): 75476.48332317507\n",
      "Final score (RMSE): 274.7298369729343\n",
      "Final score (R^2): 0.846250802277137\n",
      "Average Error: 107.1910\n",
      "Accuracy = 80.26%\n",
      "evaulation 0.8855487486558659\n",
      "Model performance in Test Data\n",
      "Final score (MSE): 353080.47036708874\n",
      "Final score (RMSE): 594.2057475042535\n",
      "Final score (R^2): 0.15368419518396015\n",
      "Average Error: 262.0365\n",
      "Accuracy = 49.05%\n",
      "evaulation 0.720981143468076\n"
     ]
    },
    {
     "data": {
      "image/png": "[encoded data removed]",
      "text/plain": [
       "<Figure size 432x288 with 1 Axes>"
      ]
     },
     "metadata": {},
     "output_type": "display_data"
    }
   ],
   "source": [
    "# scikit-learn k-fold cross-validation\n",
    "from numpy import array\n",
    "from sklearn.model_selection import KFold\n",
    "\n",
    "# prepare cross validation\n",
    "kfold = KFold(5, True, 2)\n",
    "# enumerate splits\n",
    "for train_index, test_index in kfold.split(x):\n",
    "    \n",
    "    x_train,x_test=x[train_index],x[test_index]\n",
    "    y_train,y_test=y[train_index],y[test_index]\n",
    "    print('train: %s, test: %s' % (train_index, test_index))\n",
    "print(len(train_index),len(test_index))\n",
    "    \n",
    "from sklearn.ensemble import RandomForestRegressor\n",
    "model=RandomForestRegressor()      \n",
    "model.fit(x_train,y_train)\n",
    "performance()"
   ]
  },
  {
   "cell_type": "code",
   "execution_count": 140,
   "metadata": {},
   "outputs": [
    {
     "name": "stdout",
     "output_type": "stream",
     "text": [
      "Model performance in Train Data\n",
      "Final score (MSE): 109407.38316703822\n",
      "Final score (RMSE): 330.7678690064049\n",
      "Final score (R^2): 0.7771319403573085\n",
      "Average Error: 150.5365\n",
      "Accuracy = 62.66%\n",
      "evaulation nan\n",
      "Model performance in Test Data\n",
      "Final score (MSE): 330590.3342477581\n",
      "Final score (RMSE): 574.9698550774276\n",
      "Final score (R^2): 0.20759189965275926\n",
      "Average Error: 282.9105\n",
      "Accuracy = 28.71%\n",
      "evaulation nan\n"
     ]
    },
    {
     "name": "stderr",
     "output_type": "stream",
     "text": [
      "C:\\anaconda\\envs\\tenso\\lib\\site-packages\\ipykernel_launcher.py:21: RuntimeWarning: invalid value encountered in log10\n",
      "C:\\anaconda\\envs\\tenso\\lib\\site-packages\\ipykernel_launcher.py:21: RuntimeWarning: invalid value encountered in log10\n"
     ]
    },
    {
     "data": {
      "image/png": "[encoded data removed]",
      "text/plain": [
       "<Figure size 432x288 with 1 Axes>"
      ]
     },
     "metadata": {},
     "output_type": "display_data"
    }
   ],
   "source": [
    "from sklearn import linear_model\n",
    "model = linear_model.BayesianRidge()\n",
    "model.fit(x_train,y_train)\n",
    "performance()"
   ]
  },
  {
   "cell_type": "code",
   "execution_count": 143,
   "metadata": {},
   "outputs": [
    {
     "name": "stdout",
     "output_type": "stream",
     "text": [
      "Model performance in Train Data\n",
      "Final score (MSE): 93326.55040286861\n",
      "Final score (RMSE): 305.49394495287237\n",
      "Final score (R^2): 0.8098893639593094\n",
      "Average Error: 134.5847\n",
      "Accuracy = 66.59%\n",
      "evaulation nan\n",
      "Model performance in Test Data\n",
      "Final score (MSE): 337410.7760976934\n",
      "Final score (RMSE): 580.8707051467593\n",
      "Final score (R^2): 0.19124364984039266\n",
      "Average Error: 282.7118\n",
      "Accuracy = 29.33%\n",
      "evaulation nan\n"
     ]
    },
    {
     "name": "stderr",
     "output_type": "stream",
     "text": [
      "C:\\anaconda\\envs\\tenso\\lib\\site-packages\\ipykernel_launcher.py:21: RuntimeWarning: invalid value encountered in log10\n",
      "C:\\anaconda\\envs\\tenso\\lib\\site-packages\\ipykernel_launcher.py:21: RuntimeWarning: invalid value encountered in log10\n"
     ]
    },
    {
     "data": {
      "image/png": "[encoded data removed]",
      "text/plain": [
       "<Figure size 432x288 with 1 Axes>"
      ]
     },
     "metadata": {},
     "output_type": "display_data"
    }
   ],
   "source": [
    "model = linear_model.Ridge(alpha=.5)\n",
    "model.fit(x_train,y_train)\n",
    "performance()"
   ]
  },
  {
   "cell_type": "code",
   "execution_count": 144,
   "metadata": {},
   "outputs": [
    {
     "name": "stdout",
     "output_type": "stream",
     "text": [
      "train: [   0    1    2 ... 6234 6235 6236], test: [   3   15   27   35   37   40   45   72   79   88  103  112  121  129\n",
      "  141  184  186  194  199  201  204  207  213  230  242  248  256  257\n",
      "  265  273  275  277  288  289  317  338  344  353  363  368  377  380\n",
      "  385  399  411  423  463  491  499  514  521  537  541  558  562  577\n",
      "  582  584  586  595  604  617  625  626  640  642  646  661  680  683\n",
      "  694  721  727  744  750  795  799  810  811  814  819  826  834  844\n",
      "  866  874  885  887  889  909  916  921  925  936  938  948  953  954\n",
      "  955  957  963 1002 1015 1019 1022 1031 1062 1063 1064 1067 1082 1107\n",
      " 1109 1111 1112 1116 1135 1142 1145 1146 1150 1156 1160 1177 1190 1193\n",
      " 1195 1205 1221 1226 1228 1230 1237 1260 1281 1291 1301 1303 1317 1321\n",
      " 1333 1343 1344 1350 1352 1353 1364 1379 1380 1381 1394 1398 1400 1445\n",
      " 1447 1451 1457 1460 1469 1490 1494 1526 1527 1533 1543 1547 1553 1558\n",
      " 1561 1575 1590 1591 1605 1606 1607 1623 1638 1640 1643 1671 1678 1698\n",
      " 1706 1709 1715 1734 1752 1754 1778 1795 1796 1811 1815 1817 1829 1836\n",
      " 1837 1842 1847 1873 1881 1884 1885 1896 1902 1912 1920 1927 1928 1939\n",
      " 1950 1988 2011 2012 2023 2057 2064 2066 2078 2083 2101 2109 2112 2120\n",
      " 2126 2131 2167 2171 2173 2187 2192 2203 2204 2216 2218 2240 2246 2247\n",
      " 2253 2261 2262 2288 2313 2316 2341 2344 2348 2367 2388 2389 2448 2450\n",
      " 2455 2490 2512 2517 2524 2530 2548 2558 2565 2574 2577 2584 2599 2619\n",
      " 2628 2638 2645 2658 2660 2689 2692 2699 2703 2711 2714 2718 2749 2750\n",
      " 2756 2759 2780 2782 2787 2797 2830 2843 2846 2847 2896 2897 2904 2909\n",
      " 2910 2931 2937 2965 2966 2972 2976 2989 3001 3022 3045 3054 3056 3072\n",
      " 3073 3119 3149 3159 3165 3177 3179 3180 3183 3195 3197 3210 3217 3219\n",
      " 3224 3229 3258 3265 3267 3273 3278 3289 3299 3302 3304 3306 3313 3316\n",
      " 3322 3337 3346 3377 3407 3415 3428 3431 3433 3449 3456 3476 3477 3481\n",
      " 3488 3500 3507 3513 3516 3552 3553 3559 3564 3583 3589 3614 3629 3670\n",
      " 3672 3681 3688 3689 3696 3701 3710 3721 3723 3747 3749 3750 3754 3762\n",
      " 3765 3766 3767 3772 3773 3790 3792 3818 3826 3828 3831 3841 3842 3862\n",
      " 3878 3885 3892 3897 3902 3909 3911 3918 3925 3941 3947 3951 3993 4006\n",
      " 4009 4011 4020 4022 4037 4047 4048 4061 4110 4116 4140 4141 4143 4150\n",
      " 4162 4166 4181 4194 4202 4211 4242 4247 4248 4250 4266 4283 4291 4300\n",
      " 4301 4311 4314 4323 4359 4374 4387 4397 4403 4405 4408 4411 4413 4435\n",
      " 4438 4443 4450 4456 4463 4497 4501 4510 4513 4519 4534 4537 4542 4543\n",
      " 4544 4546 4567 4572 4577 4587 4589 4598 4608 4618 4620 4636 4643 4645\n",
      " 4648 4652 4664 4684 4686 4687 4689 4693 4695 4719 4723 4745 4747 4750\n",
      " 4759 4761 4763 4773 4781 4790 4791 4792 4794 4802 4812 4814 4817 4826\n",
      " 4857 4875 4879 4880 4883 4886 4893 4894 4910 4912 4916 4925 4935 4938\n",
      " 4942 4959 4962 4982 5024 5026 5036 5047 5056 5070 5072 5077 5080 5104\n",
      " 5114 5122 5127 5140 5179 5213 5243 5258 5261 5266 5304 5334 5342 5346\n",
      " 5351 5355 5366 5369 5375 5380 5383 5390 5396 5406 5407 5422 5442 5455\n",
      " 5465 5472 5505 5522 5538 5548 5553 5571 5589 5596 5601 5606 5613 5640\n",
      " 5654 5658 5670 5685 5699 5724 5726 5728 5775 5784 5797 5803 5815 5816\n",
      " 5823 5840 5854 5866 5875 5912 5929 5947 5957 5960 5965 5970 5979 5980\n",
      " 5989 5992 6017 6035 6046 6063 6079 6084 6100 6107 6110 6120 6122 6136\n",
      " 6146 6158 6167 6190 6206 6210 6216 6229]\n",
      "train: [   0    1    2 ... 6234 6235 6236], test: [  20   30   34   54   60   64   68   81   91   95   99  110  113  117\n",
      "  118  132  133  137  145  172  192  198  209  218  238  250  258  259\n",
      "  270  279  305  307  322  328  336  341  369  374  375  379  386  403\n",
      "  418  421  436  462  464  468  472  482  489  498  505  524  545  549\n",
      "  559  587  592  598  619  621  622  641  659  663  670  677  681  688\n",
      "  696  705  723  738  743  748  749  768  776  777  778  787  793  798\n",
      "  801  809  824  828  838  839  846  862  877  904  922  946  952  958\n",
      "  961  968  978  981  982 1008 1017 1032 1069 1080 1091 1097 1125 1128\n",
      " 1139 1153 1162 1167 1172 1176 1182 1187 1202 1209 1242 1252 1263 1277\n",
      " 1279 1286 1290 1294 1298 1302 1308 1322 1325 1328 1330 1346 1365 1367\n",
      " 1378 1387 1395 1396 1399 1406 1427 1428 1430 1440 1442 1448 1461 1493\n",
      " 1504 1511 1521 1525 1544 1557 1560 1576 1589 1594 1599 1608 1610 1614\n",
      " 1636 1649 1666 1667 1685 1703 1713 1716 1723 1742 1764 1783 1797 1801\n",
      " 1803 1806 1807 1834 1857 1868 1877 1879 1892 1900 1908 1933 1934 1946\n",
      " 1947 1954 1970 1971 1972 1974 1993 2006 2007 2036 2068 2073 2076 2085\n",
      " 2098 2114 2116 2118 2124 2130 2137 2143 2151 2152 2163 2195 2200 2219\n",
      " 2224 2233 2254 2263 2268 2279 2287 2289 2295 2296 2318 2324 2325 2328\n",
      " 2342 2349 2361 2370 2380 2382 2398 2408 2417 2420 2433 2477 2478 2481\n",
      " 2495 2496 2497 2532 2550 2554 2597 2602 2603 2622 2624 2634 2657 2668\n",
      " 2674 2675 2693 2719 2726 2765 2776 2777 2784 2793 2806 2808 2809 2813\n",
      " 2824 2834 2858 2862 2867 2872 2887 2918 2940 2960 2967 2975 2986 2987\n",
      " 2997 3002 3003 3004 3005 3012 3021 3029 3040 3047 3067 3069 3079 3090\n",
      " 3097 3109 3112 3114 3126 3144 3148 3163 3173 3189 3193 3194 3200 3201\n",
      " 3225 3227 3230 3234 3240 3244 3249 3257 3262 3285 3290 3307 3314 3318\n",
      " 3319 3324 3336 3341 3343 3375 3382 3392 3394 3399 3404 3409 3436 3442\n",
      " 3465 3466 3469 3491 3499 3510 3514 3522 3535 3536 3551 3572 3580 3591\n",
      " 3595 3597 3599 3615 3621 3625 3626 3639 3652 3665 3676 3679 3685 3705\n",
      " 3706 3711 3726 3737 3748 3753 3778 3784 3796 3823 3836 3853 3883 3884\n",
      " 3890 3891 3927 3929 3955 3963 3967 3974 3980 4003 4010 4013 4018 4024\n",
      " 4026 4031 4034 4035 4050 4051 4053 4055 4058 4064 4066 4068 4071 4096\n",
      " 4104 4123 4132 4135 4139 4167 4203 4208 4234 4251 4257 4278 4279 4289\n",
      " 4292 4297 4324 4329 4333 4334 4336 4344 4347 4352 4366 4382 4392 4407\n",
      " 4421 4423 4459 4470 4500 4525 4550 4566 4576 4599 4623 4626 4630 4660\n",
      " 4661 4670 4674 4675 4707 4715 4716 4717 4721 4725 4731 4758 4768 4780\n",
      " 4782 4820 4824 4833 4845 4858 4871 4877 4881 4895 4898 4921 4924 4932\n",
      " 4947 4952 4958 4966 4970 4972 5038 5045 5048 5054 5092 5093 5099 5108\n",
      " 5111 5134 5144 5145 5150 5151 5156 5157 5173 5183 5185 5194 5198 5199\n",
      " 5207 5215 5220 5225 5239 5240 5271 5278 5281 5308 5324 5341 5359 5360\n",
      " 5371 5374 5377 5394 5408 5413 5428 5431 5443 5444 5459 5461 5477 5488\n",
      " 5507 5515 5517 5526 5534 5544 5547 5549 5551 5561 5562 5573 5582 5587\n",
      " 5599 5604 5608 5624 5634 5650 5663 5688 5689 5716 5725 5727 5731 5737\n",
      " 5748 5758 5774 5787 5799 5827 5829 5837 5851 5871 5872 5890 5897 5900\n",
      " 5922 5924 5925 5935 5936 5944 5945 5951 5955 5976 5986 6000 6013 6039\n",
      " 6057 6076 6078 6082 6088 6094 6102 6108 6113 6118 6123 6125 6133 6149\n",
      " 6150 6156 6186 6191 6199 6223 6225 6231]\n",
      "train: [   0    1    2 ... 6234 6235 6236], test: [   4   13   18   21   28   84  101  109  119  122  125  130  131  140\n",
      "  142  185  208  215  222  231  237  241  244  278  280  294  313  316\n",
      "  319  324  326  335  343  360  362  367  370  383  391  395  397  402\n",
      "  417  428  441  452  454  457  458  459  460  466  475  495  497  500\n",
      "  546  551  563  567  570  575  576  585  596  597  603  614  636  645\n",
      "  649  658  671  674  684  697  700  707  739  742  770  781  803  804\n",
      "  815  821  822  825  831  837  842  849  857  860  868  873  882  884\n",
      "  892  895  920  924  929  931  935  942  960  964  966  974  976  989\n",
      "  994 1004 1025 1026 1034 1048 1058 1061 1066 1068 1071 1087 1092 1104\n",
      " 1179 1236 1239 1247 1250 1267 1268 1272 1278 1283 1284 1304 1389 1392\n",
      " 1393 1402 1420 1426 1459 1475 1497 1500 1507 1516 1550 1552 1559 1577\n",
      " 1580 1583 1595 1597 1619 1630 1637 1650 1656 1660 1662 1664 1669 1672\n",
      " 1680 1691 1693 1694 1700 1704 1722 1735 1736 1737 1746 1748 1749 1758\n",
      " 1789 1794 1804 1838 1852 1853 1854 1861 1871 1894 1903 1906 1916 1935\n",
      " 1945 1956 1962 1978 1992 1996 1998 2002 2015 2037 2038 2046 2051 2052\n",
      " 2063 2069 2071 2079 2080 2106 2119 2123 2125 2138 2140 2141 2150 2154\n",
      " 2177 2183 2184 2185 2194 2199 2206 2210 2212 2217 2234 2238 2264 2277\n",
      " 2283 2284 2310 2312 2314 2327 2339 2352 2362 2378 2387 2391 2399 2416\n",
      " 2425 2436 2439 2444 2466 2483 2499 2510 2525 2537 2538 2555 2600 2601\n",
      " 2610 2614 2621 2626 2630 2643 2650 2654 2667 2669 2687 2707 2724 2730\n",
      " 2733 2743 2746 2758 2761 2779 2786 2791 2822 2827 2848 2894 2898 2905\n",
      " 2927 2935 2957 2971 2977 2988 2992 3011 3031 3032 3043 3049 3055 3081\n",
      " 3092 3098 3107 3113 3118 3120 3125 3141 3150 3160 3175 3185 3190 3198\n",
      " 3202 3203 3222 3236 3245 3248 3288 3291 3298 3300 3312 3323 3348 3349\n",
      " 3351 3358 3363 3373 3381 3406 3438 3440 3446 3460 3467 3474 3479 3486\n",
      " 3501 3504 3515 3530 3531 3533 3547 3571 3577 3593 3655 3656 3678 3697\n",
      " 3728 3738 3782 3793 3804 3812 3822 3843 3848 3867 3875 3888 3904 3908\n",
      " 3917 3932 3960 3964 3969 3971 3977 3981 3992 3999 4002 4019 4023 4029\n",
      " 4043 4045 4069 4073 4087 4095 4100 4125 4133 4145 4146 4151 4165 4171\n",
      " 4187 4189 4190 4204 4210 4227 4243 4244 4253 4254 4258 4260 4274 4288\n",
      " 4296 4299 4304 4315 4317 4355 4358 4364 4367 4378 4380 4388 4404 4419\n",
      " 4430 4454 4457 4462 4465 4466 4508 4523 4527 4528 4539 4553 4563 4584\n",
      " 4586 4592 4633 4637 4647 4650 4655 4659 4671 4676 4678 4681 4682 4699\n",
      " 4706 4733 4760 4778 4779 4784 4789 4807 4839 4840 4853 4854 4865 4884\n",
      " 4903 4913 4914 4929 4940 4943 4953 4957 4963 4981 4993 5000 5025 5042\n",
      " 5057 5074 5081 5084 5087 5094 5101 5117 5118 5119 5129 5132 5153 5164\n",
      " 5177 5182 5186 5204 5206 5214 5221 5227 5230 5241 5260 5274 5280 5287\n",
      " 5294 5298 5314 5325 5332 5350 5353 5362 5365 5382 5385 5398 5400 5403\n",
      " 5410 5434 5451 5467 5476 5482 5486 5500 5521 5559 5563 5566 5576 5579\n",
      " 5590 5611 5619 5620 5622 5629 5631 5641 5647 5674 5677 5695 5706 5710\n",
      " 5720 5730 5760 5762 5777 5778 5781 5789 5801 5813 5833 5834 5839 5843\n",
      " 5846 5848 5853 5863 5867 5869 5870 5882 5887 5901 5903 5909 5928 5940\n",
      " 5948 5954 5969 5991 5994 5998 6015 6016 6025 6026 6030 6031 6034 6037\n",
      " 6056 6061 6062 6074 6116 6119 6124 6127 6138 6141 6145 6154 6162 6166\n",
      " 6173 6178 6179 6180 6188 6202 6209 6222]\n",
      "train: [   0    1    3 ... 6234 6235 6236], test: [   2    5    7   43   57   61   62   82   83   85   87   89  108  120\n",
      "  127  165  171  179  188  193  197  221  239  240  253  263  286  290\n",
      "  292  297  301  303  304  312  327  334  337  346  350  355  364  371\n",
      "  393  424  432  434  448  451  470  473  476  477  480  484  487  494\n",
      "  502  503  522  523  525  527  528  538  539  573  581  594  599  613\n",
      "  616  639  644  648  650  655  660  676  724  735  741  746  765  771\n",
      "  816  832  836  840  848  853  875  893  899  901  907  911  928  934\n",
      "  945  956  984  993  998 1023 1036 1054 1056 1077 1079 1100 1123 1129\n",
      " 1130 1134 1144 1151 1192 1199 1200 1211 1215 1218 1248 1251 1257 1264\n",
      " 1305 1306 1339 1347 1368 1382 1413 1423 1446 1454 1467 1470 1471 1478\n",
      " 1479 1496 1499 1501 1502 1510 1518 1534 1548 1554 1565 1566 1572 1581\n",
      " 1585 1592 1602 1604 1609 1613 1615 1617 1620 1625 1632 1658 1696 1702\n",
      " 1708 1719 1730 1741 1744 1747 1751 1760 1772 1775 1781 1813 1816 1821\n",
      " 1826 1831 1835 1840 1843 1849 1855 1864 1888 1911 1914 1915 1918 1951\n",
      " 1957 1966 1977 1986 1999 2001 2019 2026 2027 2032 2049 2054 2055 2072\n",
      " 2093 2096 2110 2132 2133 2136 2175 2176 2182 2188 2193 2213 2220 2223\n",
      " 2229 2252 2269 2274 2278 2293 2311 2323 2353 2355 2358 2371 2392 2404\n",
      " 2405 2411 2415 2430 2432 2434 2435 2461 2464 2470 2475 2482 2488 2491\n",
      " 2500 2509 2536 2546 2553 2556 2569 2576 2583 2590 2592 2596 2604 2623\n",
      " 2637 2641 2649 2661 2670 2688 2690 2696 2700 2702 2709 2739 2764 2767\n",
      " 2769 2774 2789 2796 2802 2803 2821 2823 2826 2855 2866 2870 2871 2878\n",
      " 2883 2890 2906 2908 2917 2922 2948 2953 2958 2961 2962 2963 3007 3014\n",
      " 3015 3017 3039 3041 3057 3066 3077 3082 3084 3095 3134 3140 3145 3151\n",
      " 3171 3186 3192 3196 3220 3268 3272 3276 3284 3315 3321 3325 3338 3352\n",
      " 3364 3366 3379 3395 3403 3408 3412 3424 3427 3437 3455 3463 3480 3485\n",
      " 3496 3498 3542 3548 3550 3560 3561 3579 3581 3602 3605 3609 3632 3638\n",
      " 3650 3659 3687 3712 3717 3734 3735 3763 3764 3770 3774 3783 3791 3799\n",
      " 3813 3814 3833 3847 3851 3859 3873 3879 3882 3906 3907 3926 3931 3938\n",
      " 3944 3946 3954 3970 3973 3988 3989 3994 4000 4012 4015 4025 4032 4033\n",
      " 4062 4063 4080 4082 4090 4091 4099 4112 4134 4156 4161 4163 4164 4173\n",
      " 4177 4180 4197 4199 4205 4215 4217 4218 4223 4231 4233 4256 4271 4276\n",
      " 4277 4284 4290 4295 4306 4307 4312 4319 4350 4351 4381 4390 4395 4406\n",
      " 4409 4416 4417 4432 4433 4452 4487 4493 4504 4505 4516 4548 4557 4581\n",
      " 4588 4616 4619 4621 4622 4634 4644 4654 4672 4680 4688 4698 4713 4714\n",
      " 4748 4753 4755 4777 4786 4805 4808 4809 4811 4835 4855 4859 4864 4866\n",
      " 4890 4892 4911 4937 4946 4949 4954 4965 4983 4999 5029 5033 5035 5060\n",
      " 5066 5068 5090 5095 5110 5121 5139 5143 5154 5159 5166 5170 5171 5187\n",
      " 5191 5202 5212 5217 5226 5237 5246 5252 5254 5255 5262 5267 5285 5290\n",
      " 5297 5307 5311 5312 5318 5320 5328 5336 5404 5405 5417 5429 5491 5495\n",
      " 5510 5513 5523 5530 5535 5537 5541 5545 5557 5558 5564 5569 5575 5581\n",
      " 5645 5648 5656 5662 5682 5683 5692 5702 5705 5713 5721 5723 5735 5742\n",
      " 5746 5750 5763 5779 5780 5782 5785 5786 5802 5824 5844 5847 5856 5860\n",
      " 5861 5877 5888 5889 5902 5921 5938 5952 5984 5987 5990 5999 6003 6006\n",
      " 6021 6028 6042 6060 6070 6077 6083 6087 6105 6132 6140 6155 6161 6165\n",
      " 6169 6175 6185 6207 6215 6219 6226 6230]\n",
      "train: [   0    1    2 ... 6231 6233 6234], test: [  22   26   38   44   48   52   71   75   76   86   90   93   98  102\n",
      "  107  111  123  143  149  153  155  157  158  159  160  167  180  183\n",
      "  212  226  236  249  260  261  268  269  272  282  293  318  323  340\n",
      "  347  351  352  359  384  392  398  401  426  429  430  431  455  467\n",
      "  471  486  488  493  504  517  518  520  529  533  535  536  540  547\n",
      "  550  556  564  571  580  590  602  611  627  643  647  656  664  679\n",
      "  689  708  713  717  719  728  729  731  732  737  753  755  759  764\n",
      "  773  779  782  783  788  805  808  820  827  835  845  851  852  855\n",
      "  861  864  880  891  897  913  919  926  930  940  969  977  995 1012\n",
      " 1028 1040 1041 1042 1059 1078 1081 1084 1098 1101 1118 1127 1133 1136\n",
      " 1143 1149 1155 1157 1159 1161 1165 1166 1171 1183 1189 1194 1196 1206\n",
      " 1223 1231 1235 1244 1249 1254 1255 1293 1296 1315 1320 1324 1335 1338\n",
      " 1354 1362 1369 1397 1439 1462 1463 1465 1477 1485 1487 1492 1495 1505\n",
      " 1506 1519 1522 1537 1568 1601 1612 1628 1635 1642 1646 1683 1686 1699\n",
      " 1701 1711 1725 1726 1733 1739 1740 1745 1773 1776 1777 1787 1792 1799\n",
      " 1800 1805 1809 1820 1828 1830 1833 1846 1848 1863 1878 1919 1923 1955\n",
      " 1959 1975 1990 2004 2008 2010 2018 2031 2039 2040 2100 2121 2128 2146\n",
      " 2149 2155 2160 2161 2164 2180 2190 2191 2205 2215 2225 2228 2235 2239\n",
      " 2245 2248 2250 2267 2270 2319 2332 2336 2356 2360 2364 2372 2384 2395\n",
      " 2401 2403 2407 2410 2414 2429 2451 2453 2463 2467 2479 2486 2489 2503\n",
      " 2504 2511 2513 2520 2521 2522 2533 2551 2560 2563 2567 2578 2581 2595\n",
      " 2615 2616 2618 2627 2646 2647 2662 2664 2676 2685 2698 2705 2710 2713\n",
      " 2725 2729 2735 2771 2810 2817 2818 2832 2835 2836 2838 2854 2864 2869\n",
      " 2873 2877 2880 2882 2888 2889 2900 2929 2936 2947 2949 2951 2968 2973\n",
      " 2978 2999 3000 3008 3016 3019 3030 3036 3044 3058 3061 3074 3088 3094\n",
      " 3100 3132 3164 3167 3168 3182 3209 3214 3241 3259 3270 3281 3286 3292\n",
      " 3301 3305 3331 3342 3345 3372 3374 3383 3421 3445 3472 3487 3490 3494\n",
      " 3503 3523 3528 3540 3555 3558 3566 3567 3569 3570 3574 3584 3603 3604\n",
      " 3612 3631 3647 3677 3682 3686 3691 3707 3709 3715 3725 3733 3736 3746\n",
      " 3768 3769 3771 3789 3794 3807 3820 3821 3830 3832 3838 3844 3849 3870\n",
      " 3874 3896 3898 3900 3914 3919 3936 3950 3984 3997 3998 4014 4021 4038\n",
      " 4039 4046 4057 4060 4077 4102 4108 4111 4114 4129 4206 4207 4226 4229\n",
      " 4237 4238 4252 4265 4267 4269 4272 4281 4285 4327 4328 4339 4354 4356\n",
      " 4383 4396 4431 4434 4467 4473 4478 4481 4514 4529 4536 4541 4559 4562\n",
      " 4569 4609 4613 4615 4625 4653 4656 4690 4694 4696 4702 4735 4740 4742\n",
      " 4743 4744 4756 4767 4795 4796 4800 4804 4813 4827 4843 4851 4869 4870\n",
      " 4888 4906 4915 4923 4930 4944 4950 4951 4964 4973 4976 4990 4996 5008\n",
      " 5012 5037 5041 5044 5050 5073 5078 5083 5086 5089 5106 5107 5163 5165\n",
      " 5190 5197 5201 5224 5232 5235 5236 5238 5257 5265 5269 5326 5329 5331\n",
      " 5333 5345 5358 5367 5376 5420 5435 5471 5475 5490 5494 5504 5520 5532\n",
      " 5543 5555 5572 5577 5580 5583 5616 5627 5638 5639 5651 5660 5666 5672\n",
      " 5673 5700 5712 5719 5749 5766 5773 5783 5810 5811 5836 5862 5873 5878\n",
      " 5891 5894 5905 5906 5917 5934 5967 5972 5997 6002 6020 6024 6033 6041\n",
      " 6081 6086 6090 6096 6097 6099 6101 6103 6106 6130 6187 6194 6197 6201\n",
      " 6203 6204 6220 6221 6228 6232 6235 6236]\n",
      "train: [   0    1    2 ... 6234 6235 6236], test: [   9   11   23   32   63   69  139  150  152  156  161  166  195  210\n",
      "  214  219  227  234  246  267  271  315  321  332  349  357  376  382\n",
      "  405  406  435  445  446  456  496  501  507  510  511  516  526  532\n",
      "  553  557  565  578  606  612  624  629  631  637  691  712  716  720\n",
      "  733  734  736  745  756  761  762  772  784  786  790  856  871  883\n",
      "  886  903  908  914  923  944  959  972  973  996  997 1000 1007 1009\n",
      " 1020 1021 1029 1030 1038 1065 1072 1083 1088 1089 1093 1102 1106 1120\n",
      " 1124 1137 1148 1168 1181 1184 1203 1207 1208 1219 1220 1224 1229 1241\n",
      " 1253 1259 1265 1266 1269 1275 1288 1289 1299 1309 1313 1314 1323 1331\n",
      " 1334 1336 1342 1345 1371 1383 1404 1410 1411 1416 1434 1452 1489 1508\n",
      " 1512 1530 1539 1540 1556 1562 1563 1622 1624 1633 1634 1641 1648 1661\n",
      " 1665 1668 1675 1676 1677 1684 1687 1689 1695 1718 1728 1743 1755 1757\n",
      " 1766 1769 1771 1782 1788 1791 1798 1808 1814 1818 1819 1825 1851 1875\n",
      " 1886 1898 1922 1925 1930 1932 1948 1949 1965 1976 1980 1985 1991 2000\n",
      " 2003 2005 2013 2030 2033 2035 2042 2061 2062 2065 2074 2081 2082 2084\n",
      " 2087 2091 2094 2095 2097 2103 2107 2108 2117 2127 2144 2168 2208 2209\n",
      " 2221 2271 2280 2299 2307 2331 2333 2335 2346 2350 2363 2377 2394 2412\n",
      " 2426 2431 2446 2476 2484 2516 2529 2531 2540 2541 2542 2544 2552 2559\n",
      " 2605 2608 2609 2612 2632 2652 2659 2663 2672 2680 2683 2691 2697 2706\n",
      " 2717 2723 2741 2745 2751 2752 2755 2766 2775 2781 2805 2840 2841 2842\n",
      " 2845 2853 2859 2863 2921 2924 2925 2926 2930 2944 2952 2969 2974 2982\n",
      " 2991 2995 2998 3051 3062 3075 3091 3099 3103 3104 3133 3156 3157 3166\n",
      " 3170 3178 3187 3205 3218 3223 3228 3242 3246 3250 3253 3303 3308 3320\n",
      " 3327 3339 3344 3367 3370 3376 3388 3390 3393 3400 3414 3429 3434 3451\n",
      " 3478 3484 3492 3506 3532 3534 3537 3544 3575 3585 3601 3607 3611 3616\n",
      " 3628 3633 3635 3644 3651 3673 3684 3690 3713 3720 3730 3755 3759 3761\n",
      " 3777 3808 3809 3811 3815 3839 3845 3846 3855 3856 3860 3864 3865 3869\n",
      " 3880 3887 3901 3905 3916 3921 3935 3937 3940 3945 3952 3961 3972 3976\n",
      " 3979 4001 4004 4005 4008 4016 4028 4049 4052 4072 4081 4106 4107 4113\n",
      " 4119 4120 4138 4142 4144 4157 4159 4168 4169 4175 4176 4182 4191 4192\n",
      " 4198 4213 4214 4236 4302 4321 4322 4325 4326 4337 4338 4342 4349 4361\n",
      " 4362 4363 4369 4371 4375 4379 4398 4401 4402 4412 4414 4424 4437 4440\n",
      " 4445 4451 4460 4461 4464 4471 4472 4484 4496 4503 4512 4538 4551 4555\n",
      " 4560 4565 4571 4574 4582 4583 4601 4604 4606 4612 4635 4639 4640 4651\n",
      " 4667 4668 4691 4704 4709 4727 4730 4738 4739 4749 4771 4803 4825 4828\n",
      " 4832 4838 4844 4861 4867 4876 4909 4920 4936 4956 4974 4984 5003 5016\n",
      " 5017 5039 5049 5071 5102 5113 5123 5124 5146 5147 5149 5161 5169 5174\n",
      " 5192 5218 5248 5251 5259 5283 5284 5291 5292 5293 5317 5319 5347 5354\n",
      " 5364 5368 5373 5384 5387 5388 5389 5401 5402 5437 5445 5453 5456 5458\n",
      " 5468 5478 5483 5485 5499 5512 5516 5533 5539 5540 5565 5570 5578 5586\n",
      " 5610 5630 5633 5635 5636 5649 5669 5679 5698 5709 5722 5733 5744 5752\n",
      " 5756 5761 5790 5791 5807 5809 5814 5818 5822 5826 5828 5831 5838 5842\n",
      " 5845 5859 5883 5885 5886 5911 5916 5918 5920 5937 5939 5941 5942 5943\n",
      " 5949 5961 5963 5966 5974 5977 5978 5988 6011 6022 6036 6048 6068 6071\n",
      " 6073 6075 6134 6144 6151 6171 6177 6182]\n",
      "train: [   0    1    2 ... 6234 6235 6236], test: [   6    8   14   33   36   41   59   65   66  104  114  126  128  148\n",
      "  173  176  200  202  216  220  232  284  287  291  308  310  329  333\n",
      "  339  345  354  356  358  361  365  372  387  389  394  396  400  404\n",
      "  422  515  530  568  600  601  615  633  652  665  673  686  692  695\n",
      "  699  701  710  726  730  740  751  752  758  763  769  796  802  806\n",
      "  807  813  829  833  865  898  902  910  915  917  951  967  975  986\n",
      "  990 1003 1006 1011 1016 1027 1035 1050 1095 1114 1152 1154 1158 1164\n",
      " 1174 1185 1256 1261 1287 1292 1300 1312 1329 1332 1357 1374 1386 1388\n",
      " 1403 1405 1407 1409 1412 1415 1419 1421 1422 1424 1431 1435 1437 1438\n",
      " 1453 1455 1464 1466 1486 1488 1514 1515 1536 1549 1571 1586 1603 1611\n",
      " 1616 1647 1651 1670 1674 1688 1692 1697 1712 1720 1727 1729 1731 1732\n",
      " 1763 1767 1768 1780 1812 1823 1850 1859 1865 1866 1872 1882 1887 1893\n",
      " 1901 1936 1941 1973 1981 1984 1987 2009 2016 2022 2029 2041 2043 2044\n",
      " 2045 2048 2058 2090 2134 2156 2159 2165 2198 2202 2227 2242 2249 2251\n",
      " 2257 2260 2290 2294 2297 2298 2300 2303 2315 2320 2321 2326 2334 2340\n",
      " 2357 2368 2374 2381 2397 2400 2402 2413 2438 2447 2449 2458 2474 2480\n",
      " 2502 2506 2515 2527 2543 2549 2570 2589 2607 2611 2625 2629 2644 2648\n",
      " 2655 2656 2721 2728 2732 2736 2738 2753 2763 2770 2783 2785 2792 2795\n",
      " 2804 2816 2829 2833 2839 2861 2874 2875 2884 2912 2913 2934 2939 2942\n",
      " 2945 2954 2964 2996 3009 3013 3018 3023 3026 3027 3028 3033 3038 3042\n",
      " 3059 3096 3101 3102 3116 3137 3138 3139 3142 3143 3146 3152 3162 3169\n",
      " 3172 3174 3188 3191 3199 3208 3235 3252 3271 3274 3277 3280 3330 3355\n",
      " 3359 3361 3365 3368 3380 3386 3387 3396 3401 3405 3422 3423 3425 3426\n",
      " 3435 3439 3444 3453 3457 3471 3475 3489 3493 3502 3508 3509 3511 3519\n",
      " 3520 3524 3525 3527 3529 3545 3546 3549 3568 3576 3582 3598 3618 3620\n",
      " 3636 3640 3649 3669 3675 3693 3704 3714 3745 3795 3797 3850 3854 3857\n",
      " 3866 3889 3924 3933 3948 3975 3978 3987 3991 4027 4030 4065 4079 4098\n",
      " 4126 4154 4158 4172 4178 4193 4195 4196 4219 4225 4232 4239 4262 4280\n",
      " 4298 4303 4305 4308 4313 4331 4332 4365 4368 4373 4376 4377 4386 4391\n",
      " 4393 4418 4425 4428 4458 4468 4477 4480 4483 4507 4511 4522 4533 4549\n",
      " 4552 4554 4556 4564 4568 4573 4575 4579 4590 4595 4597 4607 4610 4628\n",
      " 4646 4666 4677 4679 4685 4692 4697 4701 4710 4718 4726 4729 4741 4765\n",
      " 4785 4788 4810 4815 4829 4830 4834 4841 4848 4849 4852 4862 4863 4868\n",
      " 4872 4873 4874 4882 4900 4904 4927 4931 4933 4941 4948 4955 4968 4978\n",
      " 4980 5001 5002 5005 5010 5013 5015 5019 5021 5023 5030 5053 5065 5069\n",
      " 5082 5098 5109 5133 5137 5138 5148 5152 5158 5162 5168 5178 5181 5188\n",
      " 5195 5210 5211 5223 5229 5242 5244 5253 5263 5272 5276 5279 5295 5301\n",
      " 5303 5313 5335 5338 5343 5352 5357 5361 5370 5379 5386 5391 5392 5399\n",
      " 5418 5423 5425 5432 5433 5438 5439 5462 5463 5481 5501 5508 5511 5552\n",
      " 5554 5556 5560 5592 5597 5598 5600 5605 5612 5617 5632 5644 5646 5652\n",
      " 5653 5655 5657 5667 5668 5676 5678 5686 5687 5690 5697 5707 5714 5715\n",
      " 5738 5743 5759 5769 5788 5794 5795 5804 5812 5825 5830 5832 5850 5852\n",
      " 5855 5858 5868 5876 5879 5892 5923 5926 5930 5932 5933 5968 5983 5995\n",
      " 6008 6009 6012 6027 6047 6049 6050 6066 6085 6091 6104 6128 6135 6147\n",
      " 6159 6160 6163 6193 6198 6205 6208 6227]\n",
      "train: [   0    1    2 ... 6234 6235 6236], test: [  12   17   39   46   47   51   58   67   70   80   94  115  116  146\n",
      "  154  163  169  174  181  211  217  233  235  243  245  247  252  262\n",
      "  281  283  285  306  309  311  330  331  378  407  414  419  447  450\n",
      "  453  465  479  481  483  492  508  509  513  519  542  543  552  560\n",
      "  566  579  583  591  608  610  620  632  651  653  662  666  675  678\n",
      "  690  711  715  747  757  775  785  789  792  794  812  823  841  859\n",
      "  888  890  943  949  950  962  985  991 1005 1014 1018 1043 1044 1046\n",
      " 1051 1055 1074 1075 1076 1090 1094 1103 1105 1108 1131 1132 1140 1141\n",
      " 1170 1186 1210 1212 1213 1214 1246 1262 1273 1282 1297 1310 1311 1348\n",
      " 1355 1356 1358 1359 1376 1417 1429 1432 1436 1443 1468 1476 1481 1517\n",
      " 1520 1523 1524 1528 1529 1532 1541 1542 1546 1551 1555 1564 1567 1569\n",
      " 1570 1573 1582 1596 1618 1626 1629 1639 1653 1654 1655 1681 1710 1714\n",
      " 1753 1756 1762 1770 1779 1784 1786 1810 1827 1841 1867 1870 1876 1890\n",
      " 1895 1899 1924 1929 1938 1940 1943 1944 1960 1964 1989 1995 2020 2024\n",
      " 2025 2034 2050 2053 2088 2113 2135 2162 2169 2172 2189 2222 2230 2231\n",
      " 2236 2241 2244 2291 2292 2302 2304 2306 2343 2359 2366 2373 2379 2383\n",
      " 2385 2390 2406 2409 2418 2424 2452 2454 2457 2459 2462 2465 2468 2469\n",
      " 2473 2487 2492 2493 2505 2507 2508 2518 2519 2534 2545 2557 2562 2572\n",
      " 2573 2580 2582 2586 2588 2594 2598 2606 2617 2620 2671 2673 2678 2681\n",
      " 2715 2716 2720 2737 2742 2744 2757 2772 2798 2800 2811 2820 2837 2849\n",
      " 2850 2851 2857 2865 2868 2885 2892 2895 2899 2901 2911 2919 2920 2923\n",
      " 2928 2932 2933 2938 2946 2959 2979 2981 2983 2993 3025 3046 3071 3087\n",
      " 3093 3105 3110 3115 3127 3129 3130 3147 3153 3161 3181 3204 3211 3213\n",
      " 3215 3221 3247 3251 3255 3260 3263 3264 3266 3269 3295 3311 3340 3347\n",
      " 3353 3356 3378 3389 3398 3402 3410 3418 3450 3454 3458 3459 3470 3483\n",
      " 3512 3526 3543 3554 3556 3562 3563 3578 3596 3600 3608 3613 3617 3637\n",
      " 3643 3653 3661 3671 3692 3695 3698 3702 3727 3732 3741 3751 3752 3775\n",
      " 3787 3788 3798 3801 3802 3805 3810 3816 3819 3829 3834 3840 3858 3868\n",
      " 3872 3876 3893 3910 3915 3920 3922 3934 3939 3949 3953 3958 3962 3965\n",
      " 3966 3968 3983 4017 4036 4056 4059 4070 4074 4083 4086 4103 4118 4121\n",
      " 4130 4136 4137 4148 4152 4155 4179 4185 4200 4212 4222 4230 4241 4245\n",
      " 4259 4261 4264 4270 4286 4293 4316 4320 4330 4335 4345 4353 4372 4384\n",
      " 4399 4426 4429 4436 4439 4442 4448 4449 4474 4479 4482 4486 4489 4490\n",
      " 4494 4498 4499 4506 4517 4518 4521 4532 4535 4558 4561 4580 4600 4611\n",
      " 4614 4617 4627 4638 4641 4642 4662 4669 4673 4683 4703 4705 4711 4712\n",
      " 4720 4728 4751 4754 4787 4797 4798 4816 4831 4836 4878 4891 4899 4901\n",
      " 4905 4919 4922 4926 4945 4967 4987 5007 5018 5040 5051 5052 5062 5067\n",
      " 5097 5115 5135 5136 5141 5142 5172 5176 5184 5193 5203 5209 5249 5256\n",
      " 5273 5277 5286 5289 5296 5300 5305 5327 5348 5356 5372 5381 5393 5409\n",
      " 5411 5414 5415 5416 5440 5447 5449 5452 5460 5466 5479 5496 5518 5527\n",
      " 5529 5536 5584 5591 5609 5623 5625 5626 5637 5659 5671 5693 5696 5701\n",
      " 5729 5732 5734 5741 5755 5757 5793 5798 5820 5821 5841 5880 5893 5896\n",
      " 5899 5907 5915 5919 5931 5950 5962 5973 5975 5981 5996 6005 6018 6029\n",
      " 6040 6043 6051 6069 6089 6112 6115 6131 6137 6139 6142 6148 6153 6157\n",
      " 6164 6176 6181 6183 6213 6217 6233]\n",
      "train: [   2    3    4 ... 6233 6235 6236], test: [   0    1   10   16   42   50   53   55   56   74   77   78  134  135\n",
      "  138  164  175  177  182  189  203  205  223  251  254  264  274  295\n",
      "  302  314  325  342  348  373  381  388  408  409  412  425  427  437\n",
      "  438  439  440  444  469  474  478  490  506  512  531  544  555  572\n",
      "  574  589  593  605  618  628  634  654  667  669  672  682  685  693\n",
      "  703  704  706  709  760  767  800  843  847  863  867  870  878  879\n",
      "  881  905  932  937  941  965  971  979  980  983  987  999 1024 1037\n",
      " 1039 1053 1060 1086 1096 1110 1113 1115 1121 1126 1163 1173 1178 1180\n",
      " 1188 1191 1198 1201 1204 1216 1217 1222 1227 1233 1238 1240 1274 1285\n",
      " 1295 1307 1316 1318 1319 1337 1340 1341 1351 1366 1370 1372 1373 1377\n",
      " 1390 1391 1408 1414 1418 1433 1441 1450 1456 1458 1480 1482 1483 1484\n",
      " 1491 1509 1513 1535 1538 1545 1574 1578 1579 1593 1598 1600 1621 1644\n",
      " 1645 1652 1682 1707 1724 1761 1785 1824 1845 1856 1858 1860 1862 1869\n",
      " 1874 1880 1891 1897 1904 1907 1913 1917 1926 1931 1942 1953 1958 1961\n",
      " 1967 1968 1983 1994 1997 2014 2021 2047 2059 2060 2067 2070 2077 2089\n",
      " 2104 2105 2115 2122 2139 2145 2147 2148 2157 2174 2178 2196 2211 2226\n",
      " 2237 2256 2258 2273 2275 2276 2281 2285 2305 2309 2322 2329 2338 2345\n",
      " 2351 2365 2369 2375 2376 2386 2393 2396 2419 2421 2422 2423 2427 2442\n",
      " 2445 2456 2460 2471 2485 2501 2523 2528 2535 2561 2566 2571 2591 2593\n",
      " 2613 2633 2636 2640 2642 2651 2666 2679 2684 2686 2695 2701 2704 2712\n",
      " 2722 2740 2747 2762 2768 2814 2819 2828 2844 2860 2886 2891 2893 2902\n",
      " 2907 2914 2955 2970 2980 2984 2994 3034 3037 3063 3064 3065 3070 3076\n",
      " 3085 3106 3111 3206 3231 3232 3237 3239 3243 3254 3293 3328 3329 3332\n",
      " 3354 3357 3360 3371 3384 3385 3416 3417 3419 3420 3447 3448 3461 3468\n",
      " 3473 3482 3495 3497 3505 3521 3557 3587 3592 3594 3610 3623 3624 3627\n",
      " 3630 3634 3641 3645 3646 3648 3662 3663 3666 3667 3668 3680 3694 3703\n",
      " 3708 3716 3718 3719 3722 3731 3739 3740 3742 3743 3744 3756 3758 3760\n",
      " 3776 3779 3786 3806 3817 3824 3827 3835 3837 3861 3881 3886 3895 3928\n",
      " 3930 3982 3995 4007 4041 4076 4078 4088 4092 4093 4094 4097 4109 4117\n",
      " 4122 4124 4127 4170 4183 4186 4188 4201 4216 4220 4221 4224 4249 4255\n",
      " 4268 4273 4275 4287 4294 4309 4346 4348 4360 4385 4389 4394 4400 4415\n",
      " 4422 4441 4444 4447 4453 4455 4475 4495 4509 4515 4545 4547 4578 4594\n",
      " 4596 4631 4632 4649 4657 4663 4665 4708 4722 4724 4734 4736 4737 4752\n",
      " 4757 4762 4764 4774 4775 4776 4793 4801 4806 4821 4823 4837 4885 4887\n",
      " 4897 4907 4917 4939 4961 4969 4975 4977 4979 4997 5004 5011 5020 5022\n",
      " 5027 5028 5043 5055 5059 5063 5064 5076 5079 5088 5096 5100 5103 5116\n",
      " 5128 5130 5131 5155 5160 5175 5180 5200 5216 5219 5228 5231 5233 5250\n",
      " 5264 5270 5275 5288 5299 5302 5306 5309 5316 5322 5330 5339 5340 5344\n",
      " 5349 5363 5378 5395 5412 5421 5424 5426 5430 5441 5448 5450 5457 5464\n",
      " 5473 5480 5484 5489 5509 5514 5519 5531 5546 5550 5567 5568 5585 5588\n",
      " 5593 5603 5615 5628 5642 5664 5665 5691 5717 5736 5740 5753 5764 5768\n",
      " 5770 5772 5792 5805 5806 5808 5819 5835 5895 5898 5913 5914 5953 5956\n",
      " 5958 5959 5964 5971 5982 5985 6001 6004 6010 6019 6032 6038 6044 6045\n",
      " 6054 6055 6058 6064 6065 6072 6080 6092 6093 6095 6111 6114 6121 6129\n",
      " 6168 6170 6184 6189 6196 6218 6234]\n",
      "train: [   0    1    2 ... 6234 6235 6236], test: [  19   24   25   29   31   49   73   92   96   97  100  105  106  124\n",
      "  136  144  147  151  162  168  170  178  187  190  191  196  206  224\n",
      "  225  228  229  255  266  276  296  298  299  300  320  366  390  410\n",
      "  413  415  416  420  433  442  443  449  461  485  534  548  554  561\n",
      "  569  588  607  609  623  630  635  638  657  668  687  698  702  714\n",
      "  718  722  725  754  766  774  780  791  797  817  818  830  850  854\n",
      "  858  869  872  876  894  896  900  906  912  918  927  933  939  947\n",
      "  970  988  992 1001 1010 1013 1033 1045 1047 1049 1052 1057 1070 1073\n",
      " 1085 1099 1117 1119 1122 1138 1147 1169 1175 1197 1225 1232 1234 1243\n",
      " 1245 1258 1270 1271 1276 1280 1326 1327 1349 1360 1361 1363 1375 1384\n",
      " 1385 1401 1425 1444 1449 1472 1473 1474 1498 1503 1531 1584 1587 1588\n",
      " 1627 1631 1657 1659 1663 1673 1679 1690 1705 1717 1721 1738 1750 1759\n",
      " 1765 1774 1790 1793 1802 1822 1832 1839 1844 1883 1889 1905 1909 1910\n",
      " 1921 1937 1952 1963 1969 1979 1982 2017 2028 2056 2075 2086 2092 2099\n",
      " 2102 2111 2129 2142 2153 2158 2166 2170 2179 2181 2186 2197 2201 2207\n",
      " 2214 2232 2243 2255 2259 2265 2266 2272 2282 2286 2301 2308 2317 2330\n",
      " 2337 2347 2354 2428 2437 2440 2441 2443 2472 2494 2498 2514 2526 2539\n",
      " 2547 2564 2568 2575 2579 2585 2587 2631 2635 2639 2653 2665 2677 2682\n",
      " 2694 2708 2727 2731 2734 2748 2754 2760 2773 2778 2788 2790 2794 2799\n",
      " 2801 2807 2812 2815 2825 2831 2852 2856 2876 2879 2881 2903 2915 2916\n",
      " 2941 2943 2950 2956 2985 2990 3006 3010 3020 3024 3035 3048 3050 3052\n",
      " 3053 3060 3068 3078 3080 3083 3086 3089 3108 3117 3121 3122 3123 3124\n",
      " 3128 3131 3135 3136 3154 3155 3158 3176 3184 3207 3212 3216 3226 3233\n",
      " 3238 3256 3261 3275 3279 3282 3283 3287 3294 3296 3297 3309 3310 3317\n",
      " 3326 3333 3334 3335 3350 3362 3369 3391 3397 3411 3413 3430 3432 3441\n",
      " 3443 3452 3462 3464 3517 3518 3538 3539 3541 3565 3573 3586 3588 3590\n",
      " 3606 3619 3622 3642 3654 3657 3658 3660 3664 3674 3683 3699 3700 3724\n",
      " 3729 3757 3780 3781 3785 3800 3803 3825 3852 3863 3871 3877 3894 3899\n",
      " 3903 3912 3913 3923 3942 3943 3956 3957 3959 3985 3986 3990 3996 4040\n",
      " 4042 4044 4054 4067 4075 4084 4085 4089 4101 4105 4115 4128 4131 4147\n",
      " 4149 4153 4160 4174 4184 4209 4228 4235 4240 4246 4263 4282 4310 4318\n",
      " 4340 4341 4343 4357 4370 4410 4420 4427 4446 4469 4476 4485 4488 4491\n",
      " 4492 4502 4520 4524 4526 4530 4531 4540 4570 4585 4591 4593 4602 4603\n",
      " 4605 4624 4629 4658 4700 4732 4746 4766 4769 4770 4772 4783 4799 4818\n",
      " 4819 4822 4842 4846 4847 4850 4856 4860 4889 4896 4902 4908 4918 4928\n",
      " 4934 4960 4971 4985 4986 4988 4989 4991 4992 4994 4995 4998 5006 5009\n",
      " 5014 5031 5032 5034 5046 5058 5061 5075 5085 5091 5105 5112 5120 5125\n",
      " 5126 5167 5189 5196 5205 5208 5222 5234 5245 5247 5268 5282 5310 5315\n",
      " 5321 5323 5337 5397 5419 5427 5436 5446 5454 5469 5470 5474 5487 5492\n",
      " 5493 5497 5498 5502 5503 5506 5524 5525 5528 5542 5574 5594 5595 5602\n",
      " 5607 5614 5618 5621 5643 5661 5675 5680 5681 5684 5694 5703 5704 5708\n",
      " 5711 5718 5739 5745 5747 5751 5754 5765 5767 5771 5776 5796 5800 5817\n",
      " 5849 5857 5864 5865 5874 5881 5884 5904 5908 5910 5927 5946 5993 6007\n",
      " 6014 6023 6052 6053 6059 6067 6098 6109 6117 6126 6143 6152 6172 6174\n",
      " 6192 6195 6200 6211 6212 6214 6224]\n",
      "5614 623\n"
     ]
    },
    {
     "name": "stderr",
     "output_type": "stream",
     "text": [
      "C:\\anaconda\\envs\\tenso\\lib\\site-packages\\sklearn\\ensemble\\forest.py:245: FutureWarning: The default value of n_estimators will change from 10 in version 0.20 to 100 in 0.22.\n",
      "  \"10 in version 0.20 to 100 in 0.22.\", FutureWarning)\n"
     ]
    },
    {
     "name": "stdout",
     "output_type": "stream",
     "text": [
      "Model performance in Train Data\n",
      "Final score (MSE): 78602.48954112067\n",
      "Final score (RMSE): 280.3613552919173\n",
      "Final score (R^2): 0.8365406687377405\n",
      "Average Error: 104.3913\n",
      "Accuracy = 80.57%\n",
      "evaulation 0.8881528065046268\n",
      "Model performance in Test Data\n",
      "Final score (MSE): 323302.14700966486\n",
      "Final score (RMSE): 568.5966470264003\n",
      "Final score (R^2): 0.25474722550235085\n",
      "Average Error: 250.0074\n",
      "Accuracy = 48.49%\n",
      "evaulation 0.7299971781991426\n"
     ]
    },
    {
     "data": {
      "image/png": "[encoded data removed]",
      "text/plain": [
       "<Figure size 432x288 with 1 Axes>"
      ]
     },
     "metadata": {},
     "output_type": "display_data"
    }
   ],
   "source": [
    "# scikit-learn k-fold cross-validation\n",
    "from numpy import array\n",
    "from sklearn.model_selection import KFold\n",
    "\n",
    "# prepare cross validation\n",
    "kfold = KFold(10, True, 2)\n",
    "# enumerate splits\n",
    "for train_index, test_index in kfold.split(x):\n",
    "    \n",
    "    x_train,x_test=x[train_index],x[test_index]\n",
    "    y_train,y_test=y[train_index],y[test_index]\n",
    "    print('train: %s, test: %s' % (train_index, test_index))\n",
    "print(len(train_index),len(test_index))\n",
    "    \n",
    "from sklearn.ensemble import RandomForestRegressor\n",
    "model=RandomForestRegressor()      \n",
    "model.fit(x_train,y_train)\n",
    "performance()"
   ]
  },
  {
   "cell_type": "code",
   "execution_count": 146,
   "metadata": {},
   "outputs": [],
   "source": [
    "y_pred=model.predict(data_test)\n",
    "y_pred= pd.DataFrame(y_pred, columns=['Price'])\n",
    "y_pred.to_csv(\"C:\\\\Users\\\\Arzun\\\\Desktop\\\\DSprojects\\\\Participants_Data\\\\Submission_729.csv\", index=False)"
   ]
  },
  {
   "cell_type": "code",
   "execution_count": 203,
   "metadata": {},
   "outputs": [
    {
     "name": "stdout",
     "output_type": "stream",
     "text": [
      "5822 415\n"
     ]
    },
    {
     "name": "stderr",
     "output_type": "stream",
     "text": [
      "C:\\anaconda\\envs\\tenso\\lib\\site-packages\\sklearn\\ensemble\\forest.py:245: FutureWarning: The default value of n_estimators will change from 10 in version 0.20 to 100 in 0.22.\n",
      "  \"10 in version 0.20 to 100 in 0.22.\", FutureWarning)\n"
     ]
    },
    {
     "name": "stdout",
     "output_type": "stream",
     "text": [
      "Model performance in Train Data\n",
      "Final score (MSE): 73315.22403464628\n",
      "Final score (RMSE): 270.7678415813929\n",
      "Final score (R^2): 0.8462735057209338\n",
      "Average Error: 104.3054\n",
      "Accuracy = 80.97%\n",
      "evaulation 0.8888099533976048\n",
      "Model performance in Test Data\n",
      "Final score (MSE): 284614.2830656195\n",
      "Final score (RMSE): 533.4925332801008\n",
      "Final score (R^2): 0.3886251708298528\n",
      "Average Error: 224.9734\n",
      "Accuracy = 50.67%\n",
      "evaulation 0.7374376753558095\n"
     ]
    },
    {
     "data": {
      "image/png": "[encoded data removed]",
      "text/plain": [
       "<Figure size 432x288 with 1 Axes>"
      ]
     },
     "metadata": {},
     "output_type": "display_data"
    }
   ],
   "source": [
    "# scikit-learn k-fold cross-validation\n",
    "from numpy import array\n",
    "from sklearn.model_selection import KFold\n",
    "\n",
    "# prepare cross validation\n",
    "kfold = KFold(15, True, 2)\n",
    "# enumerate splits\n",
    "for train_index, test_index in kfold.split(x):\n",
    "    \n",
    "    x_train,x_test=x[train_index],x[test_index]\n",
    "    y_train,y_test=y[train_index],y[test_index]\n",
    "#     print('train: %s, test: %s' % (train_index, test_index))\n",
    "print(len(train_index),len(test_index))\n",
    "    \n",
    "from sklearn.ensemble import RandomForestRegressor\n",
    "model=RandomForestRegressor()      \n",
    "model.fit(x_train,y_train)\n",
    "performance()"
   ]
  },
  {
   "cell_type": "code",
   "execution_count": 204,
   "metadata": {},
   "outputs": [],
   "source": [
    "y_pred=model.predict(data_test)\n",
    "y_pred= pd.DataFrame(y_pred, columns=['Price'])\n",
    "y_pred.to_csv(\"C:\\\\Users\\\\Arzun\\\\Desktop\\\\DSprojects\\\\Participants_Data\\\\Submission_737.csv\", index=False)"
   ]
  },
  {
   "cell_type": "code",
   "execution_count": 151,
   "metadata": {},
   "outputs": [
    {
     "name": "stdout",
     "output_type": "stream",
     "text": [
      "5926 311\n"
     ]
    },
    {
     "name": "stderr",
     "output_type": "stream",
     "text": [
      "C:\\anaconda\\envs\\tenso\\lib\\site-packages\\sklearn\\ensemble\\forest.py:245: FutureWarning: The default value of n_estimators will change from 10 in version 0.20 to 100 in 0.22.\n",
      "  \"10 in version 0.20 to 100 in 0.22.\", FutureWarning)\n"
     ]
    },
    {
     "name": "stdout",
     "output_type": "stream",
     "text": [
      "Model performance in Train Data\n",
      "Final score (MSE): 70185.02922623028\n",
      "Final score (RMSE): 264.9245727112347\n",
      "Final score (R^2): 0.8519232169293903\n",
      "Average Error: 103.4618\n",
      "Accuracy = 80.95%\n",
      "evaulation 0.8881446822091176\n",
      "Model performance in Test Data\n",
      "Final score (MSE): 298177.223582766\n",
      "Final score (RMSE): 546.056062673757\n",
      "Final score (R^2): 0.4244273233186394\n",
      "Average Error: 230.2562\n",
      "Accuracy = 48.40%\n",
      "evaulation 0.7312855825048636\n"
     ]
    },
    {
     "data": {
      "image/png": "[encoded data removed]",
      "text/plain": [
       "<Figure size 432x288 with 1 Axes>"
      ]
     },
     "metadata": {},
     "output_type": "display_data"
    }
   ],
   "source": [
    "# scikit-learn k-fold cross-validation\n",
    "from numpy import array\n",
    "from sklearn.model_selection import KFold\n",
    "\n",
    "# prepare cross validation\n",
    "kfold = KFold(20, True, 2)\n",
    "# enumerate splits\n",
    "for train_index, test_index in kfold.split(x):\n",
    "    \n",
    "    x_train,x_test=x[train_index],x[test_index]\n",
    "    y_train,y_test=y[train_index],y[test_index]\n",
    "#     print('train: %s, test: %s' % (train_index, test_index))\n",
    "print(len(train_index),len(test_index))\n",
    "    \n",
    "from sklearn.ensemble import RandomForestRegressor\n",
    "model=RandomForestRegressor()      \n",
    "model.fit(x_train,y_train)\n",
    "performance()"
   ]
  },
  {
   "cell_type": "code",
   "execution_count": 152,
   "metadata": {},
   "outputs": [],
   "source": [
    "y_pred=model.predict(data_test)\n",
    "y_pred= pd.DataFrame(y_pred, columns=['Price'])\n",
    "y_pred.to_csv(\"C:\\\\Users\\\\Arzun\\\\Desktop\\\\DSprojects\\\\Participants_Data\\\\Submission_731.csv\", index=False)"
   ]
  },
  {
   "cell_type": "code",
   "execution_count": 182,
   "metadata": {},
   "outputs": [
    {
     "name": "stdout",
     "output_type": "stream",
     "text": [
      "5926 311\n"
     ]
    },
    {
     "name": "stderr",
     "output_type": "stream",
     "text": [
      "C:\\anaconda\\envs\\tenso\\lib\\site-packages\\sklearn\\ensemble\\forest.py:245: FutureWarning: The default value of n_estimators will change from 10 in version 0.20 to 100 in 0.22.\n",
      "  \"10 in version 0.20 to 100 in 0.22.\", FutureWarning)\n"
     ]
    },
    {
     "name": "stdout",
     "output_type": "stream",
     "text": [
      "Model performance in Train Data\n",
      "Final score (MSE): 72835.82055707624\n",
      "Final score (RMSE): 269.88112300988416\n",
      "Final score (R^2): 0.846288050914118\n",
      "Average Error: 102.1535\n",
      "Accuracy = 80.56%\n",
      "evaulation 0.8871687664945624\n",
      "Model performance in Test Data\n",
      "Final score (MSE): 366799.1008032748\n",
      "Final score (RMSE): 605.6394148363156\n",
      "Final score (R^2): 0.29409760877244373\n",
      "Average Error: 277.9227\n",
      "Accuracy = 55.65%\n",
      "evaulation 0.7216200158495997\n"
     ]
    },
    {
     "data": {
      "image/png": "[encoded data removed]",
      "text/plain": [
       "<Figure size 432x288 with 1 Axes>"
      ]
     },
     "metadata": {},
     "output_type": "display_data"
    }
   ],
   "source": [
    "# scikit-learn k-fold cross-validation\n",
    "from numpy import array\n",
    "from sklearn.model_selection import KFold\n",
    "\n",
    "# prepare cross validation\n",
    "kfold = KFold(20, True, 1)\n",
    "# enumerate splits\n",
    "for train_index, test_index in kfold.split(x):\n",
    "    \n",
    "    x_train,x_test=x[train_index],x[test_index]\n",
    "    y_train,y_test=y[train_index],y[test_index]\n",
    "#     print('train: %s, test: %s' % (train_index, test_index))\n",
    "print(len(train_index),len(test_index))\n",
    "    \n",
    "from sklearn.ensemble import RandomForestRegressor\n",
    "model=RandomForestRegressor()      \n",
    "model.fit(x_train,y_train)\n",
    "performance()"
   ]
  },
  {
   "cell_type": "code",
   "execution_count": 159,
   "metadata": {},
   "outputs": [],
   "source": [
    "y_pred=model.predict(data_test)\n",
    "y_pred= pd.DataFrame(y_pred, columns=['Price'])\n",
    "y_pred.to_csv(\"C:\\\\Users\\\\Arzun\\\\Desktop\\\\DSprojects\\\\Participants_Data\\\\Submission_739.csv\", index=False)"
   ]
  },
  {
   "cell_type": "code",
   "execution_count": null,
   "metadata": {},
   "outputs": [],
   "source": []
  }
 ],
 "metadata": {
  "kernelspec": {
   "display_name": "Python 3",
   "language": "python",
   "name": "python3"
  },
  "language_info": {
   "codemirror_mode": {
    "name": "ipython",
    "version": 3
   },
   "file_extension": ".py",
   "mimetype": "text/x-python",
   "name": "python",
   "nbconvert_exporter": "python",
   "pygments_lexer": "ipython3",
   "version": "3.6.10"
  }
 },
 "nbformat": 4,
 "nbformat_minor": 4
}
