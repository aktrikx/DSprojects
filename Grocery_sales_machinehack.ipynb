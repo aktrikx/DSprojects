{
  "nbformat": 4,
  "nbformat_minor": 0,
  "metadata": {
    "colab": {
      "name": "Grocery_sales_machinehack.ipynb",
      "provenance": [],
      "collapsed_sections": [],
      "mount_file_id": "1AB5K0dKz-J3_z8AHZLMYPInQr2RQwVFl",
      "authorship_tag": "ABX9TyNQttdXMUii471Me8mRF/u5",
      "include_colab_link": true
    },
    "kernelspec": {
      "name": "python3",
      "display_name": "Python 3"
    }
  },
  "cells": [
    {
      "cell_type": "markdown",
      "metadata": {
        "id": "view-in-github",
        "colab_type": "text"
      },
      "source": [
        "<a href=\"https://colab.research.google.com/github/aktrikx/DSprojects/blob/main/Grocery_sales_machinehack.ipynb\" target=\"_parent\"><img src=\"https://colab.research.google.com/assets/colab-badge.svg\" alt=\"Open In Colab\"/></a>"
      ]
    },
    {
      "cell_type": "code",
      "metadata": {
        "id": "y-bUylR06gyt"
      },
      "source": [
        "%matplotlib inline\n",
        "import time\n",
        "import xgboost \n",
        "import pandas as pd\n",
        "import numpy as np\n",
        "import matplotlib.pyplot as plt\n",
        "import seaborn as sns\n",
        "from sklearn import metrics\n",
        "from sklearn.ensemble import GradientBoostingRegressor\n",
        "from sklearn.ensemble import RandomForestRegressor\n",
        "from sklearn.metrics import r2_score\n",
        "import numpy as np\n",
        "from sklearn.neural_network import MLPRegressor\n",
        "from sklearn.model_selection import StratifiedKFold  #for classifier\n",
        "from sklearn.model_selection import KFold #for regression\n",
        "from sklearn.model_selection import RepeatedKFold\n",
        "from sklearn.model_selection import train_test_split\n",
        "from sklearn.preprocessing import StandardScaler\n",
        "from sklearn import linear_model\n",
        "import math   # yep! going to a bit of maths later!!\n",
        "from scipy import stats as st\n",
        "from sklearn.metrics import confusion_matrix\n",
        "\n",
        "def plot1():\n",
        "    \n",
        "  # Predict\n",
        "\n",
        "  pred1 = model.predict(x_train)\n",
        "  pred = model.predict(x_test)\n",
        "  \n",
        "  # Measure MSE error.\n",
        "  print(\"For Train Model\")  \n",
        "  score = metrics.mean_squared_error(y_train,pred1)\n",
        "  print(\"Final score (MSE): {}\".format(score))\n",
        "  # Measure RMSE error.  RMSE is common for regression.\n",
        "  score = np.sqrt(metrics.mean_squared_error(y_train,pred1))\n",
        "  print(\"Final score (RMSE): {}\".format(score))\n",
        "  print(metrics.r2_score(y_train,pred1))\n",
        "\n",
        "  print(\"For Test Model\")\n",
        "  #Confusion matrix\n",
        "  # print(confusion_matrix(y_test, pred, labels=None, sample_weight=None, normalize=None))\n",
        "  # Predict\n",
        "\n",
        "  # Measure MSE error.  \n",
        "  score = metrics.mean_squared_error(y_test,pred)\n",
        "  print(\"Final score (MSE): {}\".format(score))\n",
        "  # Measure RMSE error.  RMSE is common for regression.\n",
        "  score = np.sqrt(metrics.mean_squared_error(y_test,pred))\n",
        "  print(\"Final score (RMSE): {}\".format(score))\n",
        "  print(metrics.r2_score(y_test,pred))\n",
        "\n",
        "\n",
        "  fig = plt.figure()\n",
        "  ax1 = fig.add_subplot(111)\n",
        "\n",
        "  ax1.scatter(y_train,pred1, s=10, c='b', label='Train Data')\n",
        "  ax1.scatter(y_test,pred, s=10, c='r', label='Test Data')\n",
        "  plt.xlabel('True values')\n",
        "  plt.ylabel('Predictions')\n",
        "  plt.legend(loc='upper left');\n",
        "  plt.show()\n",
        "\n",
        "def missing(self):  \n",
        "  missing= self.isnull().sum()\n",
        "  missing=(missing[missing>0]).sort_values(ascending=False)\n",
        "  return missing\n",
        "  \n",
        "# sub=pd.DataFrame({'id':test1['id'],'num_orders':[int(round(x)) for x in y_pred]})\n",
        "# train=pd.read_csv('/content/drive/My Drive/food/train.csv')\n",
        "# sub.to_csv('/content/drive/My Drive/food/sub_randomf9782.csv',index=False)\n",
        "# C:\\Users\\welcome\\Desktop\\Grocery_Sales_ParticipantsData\\Train.csv"
      ],
      "execution_count": null,
      "outputs": []
    },
    {
      "cell_type": "code",
      "metadata": {
        "id": "PPw5kBVd8nyu"
      },
      "source": [
        "train=pd.read_csv('/content/drive/My Drive/Grocery_Sales/Train.csv')\n",
        "test=pd.read_csv('/content/drive/My Drive/Grocery_Sales/Test.csv')\n",
        "sample=pd.read_excel('/content/drive/My Drive/Grocery_Sales/Sample_Submission.xlsx')\n",
        "# train1=train\n",
        "train1=train[-200:]\n",
        "train1['Day']=train1['Day']%7\n",
        "train2=np.array(train1['Day']).reshape(-1,1)\n",
        "test1=test\n",
        "test1['Day']=test1['Day']%7\n",
        "test1=np.array(test).reshape(-1,1)\n",
        "target=np.array(train1['GrocerySales']).reshape(-1,1)\n",
        "#Using scalar since data has only one feature\n",
        "scaler1 = StandardScaler()\n",
        "scaler2 = StandardScaler()\n",
        "scaler3 = StandardScaler()\n",
        "train3 = scaler1.fit_transform(pd.DataFrame(train2))\n",
        "target1 = scaler2.fit_transform(pd.DataFrame(target))\n",
        "test2 = scaler3.fit_transform(pd.DataFrame(test1))"
      ],
      "execution_count": null,
      "outputs": []
    },
    {
      "cell_type": "code",
      "metadata": {
        "id": "1HVVPOvX9YO6"
      },
      "source": [
        "x_train, x_test, y_train, y_test = train_test_split(train2,target, test_size=0.2)"
      ],
      "execution_count": null,
      "outputs": []
    },
    {
      "cell_type": "code",
      "metadata": {
        "id": "93_1ikH795eo"
      },
      "source": [
        "#Random forest\n",
        "model=RandomForestRegressor()      \n",
        "model.fit(x_train,y_train)\n",
        "plot1()"
      ],
      "execution_count": null,
      "outputs": []
    },
    {
      "cell_type": "code",
      "metadata": {
        "id": "HgqrIopf_i0m"
      },
      "source": [
        "y_pred=model.predict(test1)\n",
        "# y_pred=scaler2.inverse_transform(X, copy=None)\n",
        "sub=pd.DataFrame({'GrocerySales':y_pred})\n",
        "sub.head()\n",
        "sub.tail(20)"
      ],
      "execution_count": null,
      "outputs": []
    },
    {
      "cell_type": "code",
      "metadata": {
        "id": "O9GHJwryOQcx"
      },
      "source": [
        "sub.to_excel('/content/drive/My Drive/Grocery_Sales/groranfclasslast100.xlsx',index=False)"
      ],
      "execution_count": null,
      "outputs": []
    },
    {
      "cell_type": "code",
      "metadata": {
        "id": "WvHOejSfVY1s"
      },
      "source": [
        "#Gradient booster\n",
        "gradreg=GradientBoostingRegressor(max_depth=3,n_estimators=2000,learning_rate=0.009)\n",
        "model=gradreg.fit(x_train,y_train)\n",
        "plot1()"
      ],
      "execution_count": null,
      "outputs": []
    },
    {
      "cell_type": "code",
      "metadata": {
        "id": "qtXxZJg8bHo-"
      },
      "source": [
        "y_pred=model.predict(test1)\n",
        "# y_pred=scaler2.inverse_transform(X, copy=None)\n",
        "\n",
        "sub=pd.DataFrame({'GrocerySales':y_pred})\n",
        "sub.head()"
      ],
      "execution_count": null,
      "outputs": []
    },
    {
      "cell_type": "code",
      "metadata": {
        "id": "VtV4CWyvbMR_"
      },
      "source": [
        "sub.to_excel('/content/drive/My Drive/Grocery_Sales/groranf81.xlsx',index=False)"
      ],
      "execution_count": null,
      "outputs": []
    },
    {
      "cell_type": "code",
      "metadata": {
        "id": "WuadCAfPXc76"
      },
      "source": [
        "#xgboost \n",
        "xg=xgboost.XGBRegressor(objective ='reg:linear', colsample_bytree = 0.3, learning_rate = 0.01, max_depth = 5, alpha = 10, n_estimators = 2000)      \n",
        "model=xg.fit(x_train,y_train)\n",
        "plot1()"
      ],
      "execution_count": null,
      "outputs": []
    },
    {
      "cell_type": "code",
      "metadata": {
        "id": "V04ZxL0dYh8s"
      },
      "source": [
        "#MLP REGRESSOR"
      ],
      "execution_count": null,
      "outputs": []
    },
    {
      "cell_type": "code",
      "metadata": {
        "id": "MQk1_gE-Y72i"
      },
      "source": [
        "model = MLPRegressor(hidden_layer_sizes=(100,200,300,400),\n",
        "                                 tol=1e-2, max_iter=1000, random_state=600,activation='relu',solver='adam',\n",
        "                                 early_stopping=True,learning_rate='adaptive', learning_rate_init=0.01)\n",
        "model.fit(x_train,y_train)\n",
        "plot1()"
      ],
      "execution_count": null,
      "outputs": []
    },
    {
      "cell_type": "code",
      "metadata": {
        "id": "mhv4jN_Igquw"
      },
      "source": [
        "#linear model\n",
        "# Now to set up the linear regression model\n",
        "# Create linear regression object\n",
        "model = linear_model.LinearRegression(fit_intercept=True)\n",
        "# ... then fir it\n",
        "model.fit(x_train,y_train)\n",
        "plot1()"
      ],
      "execution_count": null,
      "outputs": []
    },
    {
      "cell_type": "code",
      "metadata": {
        "id": "xJxTjLe1hIpo"
      },
      "source": [
        "y_pred=model.predict(test1)\n",
        "# y_pred=scaler2.inverse_transform(X, copy=None)\n",
        "y_pred\n",
        "# sub=pd.DataFrame({'GrocerySales':[round(t,2) for t in y_pred.flatten()]})\n",
        "# sub.head()\n",
        "# # y_pred.tolist()\n",
        "# model.predict(x_test)"
      ],
      "execution_count": null,
      "outputs": []
    },
    {
      "cell_type": "code",
      "metadata": {
        "id": "slXIK9vypd11"
      },
      "source": [
        "sub.to_excel('/content/drive/My Drive/Grocery_Sales/grolin.xlsx',index=False)"
      ],
      "execution_count": null,
      "outputs": []
    },
    {
      "cell_type": "code",
      "metadata": {
        "id": "gMp_ZtIipubW",
        "colab": {
          "base_uri": "https://localhost:8080/",
          "height": 205
        },
        "outputId": "f91a9d99-5237-4eea-ef9e-a68aa749598e"
      },
      "source": [
        "test.head()"
      ],
      "execution_count": null,
      "outputs": [
        {
          "output_type": "execute_result",
          "data": {
            "text/html": [
              "<div>\n",
              "<style scoped>\n",
              "    .dataframe tbody tr th:only-of-type {\n",
              "        vertical-align: middle;\n",
              "    }\n",
              "\n",
              "    .dataframe tbody tr th {\n",
              "        vertical-align: top;\n",
              "    }\n",
              "\n",
              "    .dataframe thead th {\n",
              "        text-align: right;\n",
              "    }\n",
              "</style>\n",
              "<table border=\"1\" class=\"dataframe\">\n",
              "  <thead>\n",
              "    <tr style=\"text-align: right;\">\n",
              "      <th></th>\n",
              "      <th>Day</th>\n",
              "    </tr>\n",
              "  </thead>\n",
              "  <tbody>\n",
              "    <tr>\n",
              "      <th>0</th>\n",
              "      <td>0</td>\n",
              "    </tr>\n",
              "    <tr>\n",
              "      <th>1</th>\n",
              "      <td>1</td>\n",
              "    </tr>\n",
              "    <tr>\n",
              "      <th>2</th>\n",
              "      <td>2</td>\n",
              "    </tr>\n",
              "    <tr>\n",
              "      <th>3</th>\n",
              "      <td>3</td>\n",
              "    </tr>\n",
              "    <tr>\n",
              "      <th>4</th>\n",
              "      <td>4</td>\n",
              "    </tr>\n",
              "  </tbody>\n",
              "</table>\n",
              "</div>"
            ],
            "text/plain": [
              "   Day\n",
              "0    0\n",
              "1    1\n",
              "2    2\n",
              "3    3\n",
              "4    4"
            ]
          },
          "metadata": {
            "tags": []
          },
          "execution_count": 68
        }
      ]
    },
    {
      "cell_type": "code",
      "metadata": {
        "id": "q_xgJ_E-xdE1",
        "colab": {
          "base_uri": "https://localhost:8080/",
          "height": 283
        },
        "outputId": "967180b3-8b48-4683-af37-b1af27fb4dac"
      },
      "source": [
        "test.plot()"
      ],
      "execution_count": null,
      "outputs": [
        {
          "output_type": "execute_result",
          "data": {
            "text/plain": [
              "<matplotlib.axes._subplots.AxesSubplot at 0x7f089538c1d0>"
            ]
          },
          "metadata": {
            "tags": []
          },
          "execution_count": 69
        },
        {
          "output_type": "display_data",
          "data": {
            "image/png": "[encoded data removed]",
            "text/plain": [
              "<Figure size 432x288 with 1 Axes>"
            ]
          },
          "metadata": {
            "tags": [],
            "needs_background": "light"
          }
        }
      ]
    },
    {
      "cell_type": "code",
      "metadata": {
        "id": "ZFo4EamDxfgt",
        "colab": {
          "base_uri": "https://localhost:8080/",
          "height": 283
        },
        "outputId": "4f760d47-cca8-4dc9-b2c9-2eaa6f2923d1"
      },
      "source": [
        "train[-200:].plot()"
      ],
      "execution_count": null,
      "outputs": [
        {
          "output_type": "execute_result",
          "data": {
            "text/plain": [
              "<matplotlib.axes._subplots.AxesSubplot at 0x7f0894915860>"
            ]
          },
          "metadata": {
            "tags": []
          },
          "execution_count": 92
        },
        {
          "output_type": "display_data",
          "data": {
            "image/png": "[encoded data removed]",
            "text/plain": [
              "<Figure size 432x288 with 1 Axes>"
            ]
          },
          "metadata": {
            "tags": [],
            "needs_background": "light"
          }
        }
      ]
    },
    {
      "cell_type": "code",
      "metadata": {
        "id": "0sFYeNDOx32h",
        "colab": {
          "base_uri": "https://localhost:8080/",
          "height": 35
        },
        "outputId": "86939a3d-8afc-43ea-c37c-787e2fbae3a5"
      },
      "source": [
        "train1['Day'].unique()"
      ],
      "execution_count": null,
      "outputs": [
        {
          "output_type": "execute_result",
          "data": {
            "text/plain": [
              "array([3, 4, 5, 6, 0, 1, 2])"
            ]
          },
          "metadata": {
            "tags": []
          },
          "execution_count": 94
        }
      ]
    },
    {
      "cell_type": "code",
      "metadata": {
        "id": "-Sbab36NywyG",
        "colab": {
          "base_uri": "https://localhost:8080/",
          "height": 205
        },
        "outputId": "57ec7b74-9cc8-4703-e896-2561d513540b"
      },
      "source": [
        "train['Day']=pd.date_range('2018/01/01 00:00:00', periods=len(train['Day']), freq='D')\n",
        "# train.set_index('Day', inplace=True)\n",
        "# train.index = pd.to_datetime(train.index)\n",
        "train.head()"
      ],
      "execution_count": null,
      "outputs": [
        {
          "output_type": "execute_result",
          "data": {
            "text/html": [
              "<div>\n",
              "<style scoped>\n",
              "    .dataframe tbody tr th:only-of-type {\n",
              "        vertical-align: middle;\n",
              "    }\n",
              "\n",
              "    .dataframe tbody tr th {\n",
              "        vertical-align: top;\n",
              "    }\n",
              "\n",
              "    .dataframe thead th {\n",
              "        text-align: right;\n",
              "    }\n",
              "</style>\n",
              "<table border=\"1\" class=\"dataframe\">\n",
              "  <thead>\n",
              "    <tr style=\"text-align: right;\">\n",
              "      <th></th>\n",
              "      <th>Day</th>\n",
              "      <th>GrocerySales</th>\n",
              "    </tr>\n",
              "  </thead>\n",
              "  <tbody>\n",
              "    <tr>\n",
              "      <th>0</th>\n",
              "      <td>2018-01-01</td>\n",
              "      <td>8418.59</td>\n",
              "    </tr>\n",
              "    <tr>\n",
              "      <th>1</th>\n",
              "      <td>2018-01-02</td>\n",
              "      <td>8447.47</td>\n",
              "    </tr>\n",
              "    <tr>\n",
              "      <th>2</th>\n",
              "      <td>2018-01-03</td>\n",
              "      <td>8336.49</td>\n",
              "    </tr>\n",
              "    <tr>\n",
              "      <th>3</th>\n",
              "      <td>2018-01-04</td>\n",
              "      <td>8579.17</td>\n",
              "    </tr>\n",
              "    <tr>\n",
              "      <th>4</th>\n",
              "      <td>2018-01-05</td>\n",
              "      <td>8524.31</td>\n",
              "    </tr>\n",
              "  </tbody>\n",
              "</table>\n",
              "</div>"
            ],
            "text/plain": [
              "         Day  GrocerySales\n",
              "0 2018-01-01       8418.59\n",
              "1 2018-01-02       8447.47\n",
              "2 2018-01-03       8336.49\n",
              "3 2018-01-04       8579.17\n",
              "4 2018-01-05       8524.31"
            ]
          },
          "metadata": {
            "tags": []
          },
          "execution_count": 211
        }
      ]
    },
    {
      "cell_type": "code",
      "metadata": {
        "id": "btCrHzmq3GBl",
        "colab": {
          "base_uri": "https://localhost:8080/",
          "height": 205
        },
        "outputId": "413ad9ec-e6a8-484c-bcf1-cd38a6457478"
      },
      "source": [
        "test['Day']=pd.date_range('2019-11-24 00:00:00', periods=len(test['Day']), freq='D')\n",
        "# test.set_index('Day', inplace=True)\n",
        "# test.index = pd.to_datetime(test.index)\n",
        "\n",
        "test.head()"
      ],
      "execution_count": null,
      "outputs": [
        {
          "output_type": "execute_result",
          "data": {
            "text/html": [
              "<div>\n",
              "<style scoped>\n",
              "    .dataframe tbody tr th:only-of-type {\n",
              "        vertical-align: middle;\n",
              "    }\n",
              "\n",
              "    .dataframe tbody tr th {\n",
              "        vertical-align: top;\n",
              "    }\n",
              "\n",
              "    .dataframe thead th {\n",
              "        text-align: right;\n",
              "    }\n",
              "</style>\n",
              "<table border=\"1\" class=\"dataframe\">\n",
              "  <thead>\n",
              "    <tr style=\"text-align: right;\">\n",
              "      <th></th>\n",
              "      <th>Day</th>\n",
              "    </tr>\n",
              "  </thead>\n",
              "  <tbody>\n",
              "    <tr>\n",
              "      <th>0</th>\n",
              "      <td>2019-11-24</td>\n",
              "    </tr>\n",
              "    <tr>\n",
              "      <th>1</th>\n",
              "      <td>2019-11-25</td>\n",
              "    </tr>\n",
              "    <tr>\n",
              "      <th>2</th>\n",
              "      <td>2019-11-26</td>\n",
              "    </tr>\n",
              "    <tr>\n",
              "      <th>3</th>\n",
              "      <td>2019-11-27</td>\n",
              "    </tr>\n",
              "    <tr>\n",
              "      <th>4</th>\n",
              "      <td>2019-11-28</td>\n",
              "    </tr>\n",
              "  </tbody>\n",
              "</table>\n",
              "</div>"
            ],
            "text/plain": [
              "         Day\n",
              "0 2019-11-24\n",
              "1 2019-11-25\n",
              "2 2019-11-26\n",
              "3 2019-11-27\n",
              "4 2019-11-28"
            ]
          },
          "metadata": {
            "tags": []
          },
          "execution_count": 212
        }
      ]
    },
    {
      "cell_type": "code",
      "metadata": {
        "id": "IejDUcG-8N8u"
      },
      "source": [
        "for df in [train,test]:\n",
        "  df[\"day\"] = df['Day'].map(lambda x: x.day)\n",
        "  df[\"month\"] = df['Day'].map(lambda x: x.month)\n",
        "  df[\"year\"] = df['Day'].map(lambda x: x.year)  "
      ],
      "execution_count": null,
      "outputs": []
    },
    {
      "cell_type": "code",
      "metadata": {
        "id": "Du9BnBtK_unZ"
      },
      "source": [
        "# train.set_index('Day', inplace=True)\n",
        "# train.index = pd.to_datetime(train.index)\n",
        "# test.set_index('Day', inplace=True)\n",
        "# test.index = pd.to_datetime(test.index)"
      ],
      "execution_count": null,
      "outputs": []
    },
    {
      "cell_type": "code",
      "metadata": {
        "id": "mlbu6cCrBq1l",
        "colab": {
          "base_uri": "https://localhost:8080/",
          "height": 35
        },
        "outputId": "f0ec012a-f07f-4c83-b639-ae32750f018e"
      },
      "source": [
        "train.drop('Day',axis=1,inplace=True)\n",
        "train.columns"
      ],
      "execution_count": null,
      "outputs": [
        {
          "output_type": "execute_result",
          "data": {
            "text/plain": [
              "Index(['GrocerySales', 'day', 'month', 'year'], dtype='object')"
            ]
          },
          "metadata": {
            "tags": []
          },
          "execution_count": 214
        }
      ]
    },
    {
      "cell_type": "code",
      "metadata": {
        "id": "bSifNjwbBx64",
        "colab": {
          "base_uri": "https://localhost:8080/",
          "height": 35
        },
        "outputId": "d4b9d6d1-aae1-40bb-c09c-1807a0be6cf2"
      },
      "source": [
        "test.drop('Day',axis=1,inplace=True)\n",
        "test.columns"
      ],
      "execution_count": null,
      "outputs": [
        {
          "output_type": "execute_result",
          "data": {
            "text/plain": [
              "Index(['day', 'month', 'year'], dtype='object')"
            ]
          },
          "metadata": {
            "tags": []
          },
          "execution_count": 215
        }
      ]
    },
    {
      "cell_type": "code",
      "metadata": {
        "id": "s9lCQv90HS1a",
        "colab": {
          "base_uri": "https://localhost:8080/",
          "height": 530
        },
        "outputId": "8250b1ab-9271-4997-e61b-c427342e3ba4"
      },
      "source": [
        "target=train['GrocerySales']\n",
        "train1=train[['day', 'month', 'year']]\n",
        "train1['day']=train1['day']%7\n",
        "test1=test\n",
        "test1['day']=test1['day']%7\n",
        "train1=train1[-200:]\n",
        "# train1\n",
        "# train2\n",
        "train1\n",
        "# target"
      ],
      "execution_count": null,
      "outputs": [
        {
          "output_type": "stream",
          "text": [
            "/usr/local/lib/python3.6/dist-packages/ipykernel_launcher.py:3: SettingWithCopyWarning: \n",
            "A value is trying to be set on a copy of a slice from a DataFrame.\n",
            "Try using .loc[row_indexer,col_indexer] = value instead\n",
            "\n",
            "See the caveats in the documentation: https://pandas.pydata.org/pandas-docs/stable/user_guide/indexing.html#returning-a-view-versus-a-copy\n",
            "  This is separate from the ipykernel package so we can avoid doing imports until\n"
          ],
          "name": "stderr"
        },
        {
          "output_type": "execute_result",
          "data": {
            "text/html": [
              "<div>\n",
              "<style scoped>\n",
              "    .dataframe tbody tr th:only-of-type {\n",
              "        vertical-align: middle;\n",
              "    }\n",
              "\n",
              "    .dataframe tbody tr th {\n",
              "        vertical-align: top;\n",
              "    }\n",
              "\n",
              "    .dataframe thead th {\n",
              "        text-align: right;\n",
              "    }\n",
              "</style>\n",
              "<table border=\"1\" class=\"dataframe\">\n",
              "  <thead>\n",
              "    <tr style=\"text-align: right;\">\n",
              "      <th></th>\n",
              "      <th>day</th>\n",
              "      <th>month</th>\n",
              "      <th>year</th>\n",
              "    </tr>\n",
              "  </thead>\n",
              "  <tbody>\n",
              "    <tr>\n",
              "      <th>492</th>\n",
              "      <td>1</td>\n",
              "      <td>5</td>\n",
              "      <td>2019</td>\n",
              "    </tr>\n",
              "    <tr>\n",
              "      <th>493</th>\n",
              "      <td>2</td>\n",
              "      <td>5</td>\n",
              "      <td>2019</td>\n",
              "    </tr>\n",
              "    <tr>\n",
              "      <th>494</th>\n",
              "      <td>3</td>\n",
              "      <td>5</td>\n",
              "      <td>2019</td>\n",
              "    </tr>\n",
              "    <tr>\n",
              "      <th>495</th>\n",
              "      <td>4</td>\n",
              "      <td>5</td>\n",
              "      <td>2019</td>\n",
              "    </tr>\n",
              "    <tr>\n",
              "      <th>496</th>\n",
              "      <td>5</td>\n",
              "      <td>5</td>\n",
              "      <td>2019</td>\n",
              "    </tr>\n",
              "    <tr>\n",
              "      <th>...</th>\n",
              "      <td>...</td>\n",
              "      <td>...</td>\n",
              "      <td>...</td>\n",
              "    </tr>\n",
              "    <tr>\n",
              "      <th>687</th>\n",
              "      <td>5</td>\n",
              "      <td>11</td>\n",
              "      <td>2019</td>\n",
              "    </tr>\n",
              "    <tr>\n",
              "      <th>688</th>\n",
              "      <td>6</td>\n",
              "      <td>11</td>\n",
              "      <td>2019</td>\n",
              "    </tr>\n",
              "    <tr>\n",
              "      <th>689</th>\n",
              "      <td>0</td>\n",
              "      <td>11</td>\n",
              "      <td>2019</td>\n",
              "    </tr>\n",
              "    <tr>\n",
              "      <th>690</th>\n",
              "      <td>1</td>\n",
              "      <td>11</td>\n",
              "      <td>2019</td>\n",
              "    </tr>\n",
              "    <tr>\n",
              "      <th>691</th>\n",
              "      <td>2</td>\n",
              "      <td>11</td>\n",
              "      <td>2019</td>\n",
              "    </tr>\n",
              "  </tbody>\n",
              "</table>\n",
              "<p>200 rows × 3 columns</p>\n",
              "</div>"
            ],
            "text/plain": [
              "     day  month  year\n",
              "492    1      5  2019\n",
              "493    2      5  2019\n",
              "494    3      5  2019\n",
              "495    4      5  2019\n",
              "496    5      5  2019\n",
              "..   ...    ...   ...\n",
              "687    5     11  2019\n",
              "688    6     11  2019\n",
              "689    0     11  2019\n",
              "690    1     11  2019\n",
              "691    2     11  2019\n",
              "\n",
              "[200 rows x 3 columns]"
            ]
          },
          "metadata": {
            "tags": []
          },
          "execution_count": 219
        }
      ]
    },
    {
      "cell_type": "code",
      "metadata": {
        "id": "FIAcPEUgLI-0",
        "colab": {
          "base_uri": "https://localhost:8080/",
          "height": 241
        },
        "outputId": "4872c317-99c7-4125-b4c3-516e602f636f"
      },
      "source": [
        "from scipy.stats import zscore\n",
        "# Standardize ranges\n",
        "for x in train1: \n",
        "  train1[x] = zscore(train1[x])\n",
        "  test1[x] = zscore(test1[x])\n",
        "train1.head()\n",
        "# target.head()"
      ],
      "execution_count": null,
      "outputs": [
        {
          "output_type": "stream",
          "text": [
            "/usr/local/lib/python3.6/dist-packages/scipy/stats/stats.py:2419: RuntimeWarning: invalid value encountered in true_divide\n",
            "  return (a - mns) / sstd\n"
          ],
          "name": "stderr"
        },
        {
          "output_type": "execute_result",
          "data": {
            "text/html": [
              "<div>\n",
              "<style scoped>\n",
              "    .dataframe tbody tr th:only-of-type {\n",
              "        vertical-align: middle;\n",
              "    }\n",
              "\n",
              "    .dataframe tbody tr th {\n",
              "        vertical-align: top;\n",
              "    }\n",
              "\n",
              "    .dataframe thead th {\n",
              "        text-align: right;\n",
              "    }\n",
              "</style>\n",
              "<table border=\"1\" class=\"dataframe\">\n",
              "  <thead>\n",
              "    <tr style=\"text-align: right;\">\n",
              "      <th></th>\n",
              "      <th>day</th>\n",
              "      <th>month</th>\n",
              "      <th>year</th>\n",
              "    </tr>\n",
              "  </thead>\n",
              "  <tbody>\n",
              "    <tr>\n",
              "      <th>492</th>\n",
              "      <td>-0.971606</td>\n",
              "      <td>-1.567207</td>\n",
              "      <td>NaN</td>\n",
              "    </tr>\n",
              "    <tr>\n",
              "      <th>493</th>\n",
              "      <td>-0.458885</td>\n",
              "      <td>-1.567207</td>\n",
              "      <td>NaN</td>\n",
              "    </tr>\n",
              "    <tr>\n",
              "      <th>494</th>\n",
              "      <td>0.053836</td>\n",
              "      <td>-1.567207</td>\n",
              "      <td>NaN</td>\n",
              "    </tr>\n",
              "    <tr>\n",
              "      <th>495</th>\n",
              "      <td>0.566557</td>\n",
              "      <td>-1.567207</td>\n",
              "      <td>NaN</td>\n",
              "    </tr>\n",
              "    <tr>\n",
              "      <th>496</th>\n",
              "      <td>1.079278</td>\n",
              "      <td>-1.567207</td>\n",
              "      <td>NaN</td>\n",
              "    </tr>\n",
              "  </tbody>\n",
              "</table>\n",
              "</div>"
            ],
            "text/plain": [
              "          day     month  year\n",
              "492 -0.971606 -1.567207   NaN\n",
              "493 -0.458885 -1.567207   NaN\n",
              "494  0.053836 -1.567207   NaN\n",
              "495  0.566557 -1.567207   NaN\n",
              "496  1.079278 -1.567207   NaN"
            ]
          },
          "metadata": {
            "tags": []
          },
          "execution_count": 220
        }
      ]
    },
    {
      "cell_type": "code",
      "metadata": {
        "id": "qZFtIKj7NLJP"
      },
      "source": [
        "x_train, x_test, y_train, y_test = train_test_split(train1,target, test_size=0.2)"
      ],
      "execution_count": null,
      "outputs": []
    },
    {
      "cell_type": "code",
      "metadata": {
        "id": "sQyt7bpeNx8Z",
        "colab": {
          "base_uri": "https://localhost:8080/",
          "height": 443
        },
        "outputId": "2c6d1382-b832-4087-be2c-92b1a159fe8c"
      },
      "source": [
        "# xgboost \n",
        "xg=xgboost.XGBRegressor(objective ='reg:linear', colsample_bytree = 0.3, learning_rate = 0.1, max_depth = 5, alpha = 10, n_estimators = 200)      \n",
        "model=xg.fit(x_train,y_train)\n",
        "plot1()"
      ],
      "execution_count": null,
      "outputs": [
        {
          "output_type": "stream",
          "text": [
            "[16:16:07] WARNING: /workspace/src/objective/regression_obj.cu:152: reg:linear is now deprecated in favor of reg:squarederror.\n",
            "For Train Model\n",
            "Final score (MSE): 101680.3059133113\n",
            "Final score (RMSE): 318.87349515648253\n",
            "0.4402144920326603\n",
            "For Test Model\n",
            "Final score (MSE): 105856.65717971907\n",
            "Final score (RMSE): 325.3562004629988\n",
            "0.44537682369098053\n"
          ],
          "name": "stdout"
        },
        {
          "output_type": "display_data",
          "data": {
            "image/png": "[encoded data removed]",
            "text/plain": [
              "<Figure size 432x288 with 1 Axes>"
            ]
          },
          "metadata": {
            "tags": [],
            "needs_background": "light"
          }
        }
      ]
    },
    {
      "cell_type": "code",
      "metadata": {
        "id": "oo2wIJIdOCQG",
        "colab": {
          "base_uri": "https://localhost:8080/",
          "height": 425
        },
        "outputId": "c0724dcf-21a3-484d-d2af-9a01ba6dabc9"
      },
      "source": [
        "# RandomForestRegressor\n",
        "model=RandomForestRegressor(n_estimators=300)      \n",
        "model.fit(x_train,y_train)\n",
        "plot1()"
      ],
      "execution_count": null,
      "outputs": [
        {
          "output_type": "stream",
          "text": [
            "For Train Model\n",
            "Final score (MSE): 51012.5823646519\n",
            "Final score (RMSE): 225.85965191829172\n",
            "0.7191579620534556\n",
            "For Test Model\n",
            "Final score (MSE): 119041.0837094865\n",
            "Final score (RMSE): 345.0233089364927\n",
            "0.3762986125083069\n"
          ],
          "name": "stdout"
        },
        {
          "output_type": "display_data",
          "data": {
            "image/png": "[encoded data removed]",
            "text/plain": [
              "<Figure size 432x288 with 1 Axes>"
            ]
          },
          "metadata": {
            "tags": [],
            "needs_background": "light"
          }
        }
      ]
    },
    {
      "cell_type": "code",
      "metadata": {
        "id": "YFapP6hLOVJo",
        "colab": {
          "base_uri": "https://localhost:8080/",
          "height": 205
        },
        "outputId": "9b7e93eb-5220-4825-c4f8-34c53d69547c"
      },
      "source": [
        "y_pred=model.predict(test1)\n",
        "# y_pred=scaler2.inverse_transform(X, copy=None)\n",
        "sub=pd.DataFrame({'GrocerySales':y_pred})\n",
        "sub.head()"
      ],
      "execution_count": null,
      "outputs": [
        {
          "output_type": "execute_result",
          "data": {
            "text/html": [
              "<div>\n",
              "<style scoped>\n",
              "    .dataframe tbody tr th:only-of-type {\n",
              "        vertical-align: middle;\n",
              "    }\n",
              "\n",
              "    .dataframe tbody tr th {\n",
              "        vertical-align: top;\n",
              "    }\n",
              "\n",
              "    .dataframe thead th {\n",
              "        text-align: right;\n",
              "    }\n",
              "</style>\n",
              "<table border=\"1\" class=\"dataframe\">\n",
              "  <thead>\n",
              "    <tr style=\"text-align: right;\">\n",
              "      <th></th>\n",
              "      <th>GrocerySales</th>\n",
              "    </tr>\n",
              "  </thead>\n",
              "  <tbody>\n",
              "    <tr>\n",
              "      <th>0</th>\n",
              "      <td>8083.203703</td>\n",
              "    </tr>\n",
              "    <tr>\n",
              "      <th>1</th>\n",
              "      <td>8065.574857</td>\n",
              "    </tr>\n",
              "    <tr>\n",
              "      <th>2</th>\n",
              "      <td>8026.941592</td>\n",
              "    </tr>\n",
              "    <tr>\n",
              "      <th>3</th>\n",
              "      <td>7807.511568</td>\n",
              "    </tr>\n",
              "    <tr>\n",
              "      <th>4</th>\n",
              "      <td>7845.386113</td>\n",
              "    </tr>\n",
              "  </tbody>\n",
              "</table>\n",
              "</div>"
            ],
            "text/plain": [
              "   GrocerySales\n",
              "0   8083.203703\n",
              "1   8065.574857\n",
              "2   8026.941592\n",
              "3   7807.511568\n",
              "4   7845.386113"
            ]
          },
          "metadata": {
            "tags": []
          },
          "execution_count": 193
        }
      ]
    },
    {
      "cell_type": "code",
      "metadata": {
        "id": "jj6GkLPUOrYW",
        "colab": {
          "base_uri": "https://localhost:8080/",
          "height": 35
        },
        "outputId": "d4520552-d88e-44c6-a59c-cdacb0800c5e"
      },
      "source": [
        "len(sub)"
      ],
      "execution_count": null,
      "outputs": [
        {
          "output_type": "execute_result",
          "data": {
            "text/plain": [
              "90"
            ]
          },
          "metadata": {
            "tags": []
          },
          "execution_count": 204
        }
      ]
    },
    {
      "cell_type": "code",
      "metadata": {
        "id": "x_ttEu4rPQiF",
        "colab": {
          "base_uri": "https://localhost:8080/",
          "height": 425
        },
        "outputId": "19666d6d-882d-49ab-bb51-ac4ff34f5fcd"
      },
      "source": [
        "# Gradientbooster\n",
        "gradreg=GradientBoostingRegressor(max_depth=3,n_estimators=600,learning_rate=0.9)\n",
        "model=gradreg.fit(x_train,y_train)\n",
        "plot1()"
      ],
      "execution_count": null,
      "outputs": [
        {
          "output_type": "stream",
          "text": [
            "For Train Model\n",
            "Final score (MSE): 51332.8957636085\n",
            "Final score (RMSE): 226.56764059240345\n",
            "0.7173945251997492\n",
            "For Test Model\n",
            "Final score (MSE): 119001.52054285548\n",
            "Final score (RMSE): 344.9659701229318\n",
            "0.3765058989438165\n"
          ],
          "name": "stdout"
        },
        {
          "output_type": "display_data",
          "data": {
            "image/png": "[encoded data removed]",
            "text/plain": [
              "<Figure size 432x288 with 1 Axes>"
            ]
          },
          "metadata": {
            "tags": [],
            "needs_background": "light"
          }
        }
      ]
    },
    {
      "cell_type": "code",
      "metadata": {
        "id": "aDWIdC5qQUom",
        "colab": {
          "base_uri": "https://localhost:8080/",
          "height": 205
        },
        "outputId": "544f5420-43d7-4593-d095-99bc2805630b"
      },
      "source": [
        "y_pred=model.predict(test1)\n",
        "# y_pred=scaler2.inverse_transform(X, copy=None)\n",
        "sub=pd.DataFrame({'GrocerySales':y_pred})\n",
        "sub.head()"
      ],
      "execution_count": null,
      "outputs": [
        {
          "output_type": "execute_result",
          "data": {
            "text/html": [
              "<div>\n",
              "<style scoped>\n",
              "    .dataframe tbody tr th:only-of-type {\n",
              "        vertical-align: middle;\n",
              "    }\n",
              "\n",
              "    .dataframe tbody tr th {\n",
              "        vertical-align: top;\n",
              "    }\n",
              "\n",
              "    .dataframe thead th {\n",
              "        text-align: right;\n",
              "    }\n",
              "</style>\n",
              "<table border=\"1\" class=\"dataframe\">\n",
              "  <thead>\n",
              "    <tr style=\"text-align: right;\">\n",
              "      <th></th>\n",
              "      <th>GrocerySales</th>\n",
              "    </tr>\n",
              "  </thead>\n",
              "  <tbody>\n",
              "    <tr>\n",
              "      <th>0</th>\n",
              "      <td>8095.582516</td>\n",
              "    </tr>\n",
              "    <tr>\n",
              "      <th>1</th>\n",
              "      <td>8056.959567</td>\n",
              "    </tr>\n",
              "    <tr>\n",
              "      <th>2</th>\n",
              "      <td>8031.124996</td>\n",
              "    </tr>\n",
              "    <tr>\n",
              "      <th>3</th>\n",
              "      <td>7773.630557</td>\n",
              "    </tr>\n",
              "    <tr>\n",
              "      <th>4</th>\n",
              "      <td>7838.255099</td>\n",
              "    </tr>\n",
              "  </tbody>\n",
              "</table>\n",
              "</div>"
            ],
            "text/plain": [
              "   GrocerySales\n",
              "0   8095.582516\n",
              "1   8056.959567\n",
              "2   8031.124996\n",
              "3   7773.630557\n",
              "4   7838.255099"
            ]
          },
          "metadata": {
            "tags": []
          },
          "execution_count": 206
        }
      ]
    },
    {
      "cell_type": "code",
      "metadata": {
        "id": "OM_FLxBFQgvK"
      },
      "source": [
        "sub.to_excel('/content/drive/My Drive/Grocery_Sales/grogrebo.xlsx',index=False)"
      ],
      "execution_count": null,
      "outputs": []
    },
    {
      "cell_type": "code",
      "metadata": {
        "id": "QFTMaXsuQtLb"
      },
      "source": [
        ""
      ],
      "execution_count": null,
      "outputs": []
    }
  ]
}